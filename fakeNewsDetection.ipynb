{
  "nbformat": 4,
  "nbformat_minor": 0,
  "metadata": {
    "colab": {
      "name": "fakeNewsDetection.ipynb",
      "provenance": [],
      "collapsed_sections": [
        "m9MJNxMso2LC",
        "sfGz4-rE0UwT"
      ]
    },
    "kernelspec": {
      "name": "python3",
      "display_name": "Python 3"
    }
  },
  "cells": [
    {
      "cell_type": "markdown",
      "metadata": {
        "id": "Wupgebyv7I10",
        "colab_type": "text"
      },
      "source": [
        ""
      ]
    },
    {
      "cell_type": "markdown",
      "metadata": {
        "id": "q9Ty6Rb67Rwf",
        "colab_type": "text"
      },
      "source": [
        "# Importing Liberaries"
      ]
    },
    {
      "cell_type": "code",
      "metadata": {
        "id": "8A85GQdXzP5E",
        "colab_type": "code",
        "colab": {}
      },
      "source": [
        "import numpy as np\n",
        "import pandas as pd\n",
        "import sys\n",
        "import os\n",
        "import matplotlib.pyplot as plt\n",
        "%matplotlib inline\n",
        "\n",
        "from sklearn.model_selection import train_test_split\n",
        "from sklearn.metrics import confusion_matrix\n",
        "from sklearn.utils import shuffle\n",
        "\n",
        "import nltk\n",
        "from nltk.tokenize import word_tokenize\n",
        "from nltk.corpus import stopwords\n",
        "from nltk.stem import WordNetLemmatizer\n",
        "from nltk.stem import PorterStemmer \n",
        "from nltk.tokenize import word_tokenize\n",
        "\n",
        "from keras.preprocessing.text import Tokenizer\n",
        "from keras.utils.np_utils import to_categorical\n",
        "from keras.preprocessing.sequence import pad_sequences\n",
        "from keras.layers import Embedding, Dense, Input, Flatten, Conv1D, MaxPooling1D, Embedding, Dropout, LSTM, concatenate\n",
        "from keras.models import Model, Sequential\n",
        "from tensorflow.keras import regularizers\n"
      ],
      "execution_count": 0,
      "outputs": []
    },
    {
      "cell_type": "markdown",
      "metadata": {
        "id": "2aX6-7-I7J-b",
        "colab_type": "text"
      },
      "source": [
        "# Dataset Import"
      ]
    },
    {
      "cell_type": "code",
      "metadata": {
        "id": "-9bX50nx-YU0",
        "colab_type": "code",
        "outputId": "122a0183-cb53-4b48-8518-6eaba037613d",
        "colab": {
          "base_uri": "https://localhost:8080/",
          "height": 34
        }
      },
      "source": [
        "from google.colab import drive\n",
        "drive.mount('/content/gdrive')"
      ],
      "execution_count": 26,
      "outputs": [
        {
          "output_type": "stream",
          "text": [
            "Mounted at /content/gdrive\n"
          ],
          "name": "stdout"
        }
      ]
    },
    {
      "cell_type": "code",
      "metadata": {
        "id": "yMOVNJ-F-ve0",
        "colab_type": "code",
        "colab": {}
      },
      "source": [
        "test_data1 = pd.read_csv('/content/gdrive/My Drive/Dataset - DL/Data 1/train.csv')\n",
        "test_data2 = pd.read_csv('/content/gdrive/My Drive/Dataset - DL/Data 2/data.csv')\n",
        "test_data3 = pd.read_csv('/content/gdrive/My Drive/Dataset - DL/Data 3/covid19.csv', names=[\"date\", \"url\", \"title\", \"body\"])\n",
        "test_data4 = pd.read_csv('/content/gdrive/My Drive/Dataset - DL/Data 3/falsehood.csv', names=[\"date\", \"url\", \"title\", \"body\"])"
      ],
      "execution_count": 0,
      "outputs": []
    },
    {
      "cell_type": "code",
      "metadata": {
        "id": "trxtaddj_U5M",
        "colab_type": "code",
        "outputId": "42bcafa9-11a9-4f4c-c5ba-acb1021e4d70",
        "colab": {
          "base_uri": "https://localhost:8080/",
          "height": 343
        }
      },
      "source": [
        "test_data1.head(10)"
      ],
      "execution_count": 28,
      "outputs": [
        {
          "output_type": "execute_result",
          "data": {
            "text/html": [
              "<div>\n",
              "<style scoped>\n",
              "    .dataframe tbody tr th:only-of-type {\n",
              "        vertical-align: middle;\n",
              "    }\n",
              "\n",
              "    .dataframe tbody tr th {\n",
              "        vertical-align: top;\n",
              "    }\n",
              "\n",
              "    .dataframe thead th {\n",
              "        text-align: right;\n",
              "    }\n",
              "</style>\n",
              "<table border=\"1\" class=\"dataframe\">\n",
              "  <thead>\n",
              "    <tr style=\"text-align: right;\">\n",
              "      <th></th>\n",
              "      <th>id</th>\n",
              "      <th>title</th>\n",
              "      <th>author</th>\n",
              "      <th>text</th>\n",
              "      <th>label</th>\n",
              "    </tr>\n",
              "  </thead>\n",
              "  <tbody>\n",
              "    <tr>\n",
              "      <th>0</th>\n",
              "      <td>0</td>\n",
              "      <td>House Dem Aide: We Didn’t Even See Comey’s Let...</td>\n",
              "      <td>Darrell Lucus</td>\n",
              "      <td>House Dem Aide: We Didn’t Even See Comey’s Let...</td>\n",
              "      <td>1</td>\n",
              "    </tr>\n",
              "    <tr>\n",
              "      <th>1</th>\n",
              "      <td>1</td>\n",
              "      <td>FLYNN: Hillary Clinton, Big Woman on Campus - ...</td>\n",
              "      <td>Daniel J. Flynn</td>\n",
              "      <td>Ever get the feeling your life circles the rou...</td>\n",
              "      <td>0</td>\n",
              "    </tr>\n",
              "    <tr>\n",
              "      <th>2</th>\n",
              "      <td>2</td>\n",
              "      <td>Why the Truth Might Get You Fired</td>\n",
              "      <td>Consortiumnews.com</td>\n",
              "      <td>Why the Truth Might Get You Fired October 29, ...</td>\n",
              "      <td>1</td>\n",
              "    </tr>\n",
              "    <tr>\n",
              "      <th>3</th>\n",
              "      <td>3</td>\n",
              "      <td>15 Civilians Killed In Single US Airstrike Hav...</td>\n",
              "      <td>Jessica Purkiss</td>\n",
              "      <td>Videos 15 Civilians Killed In Single US Airstr...</td>\n",
              "      <td>1</td>\n",
              "    </tr>\n",
              "    <tr>\n",
              "      <th>4</th>\n",
              "      <td>4</td>\n",
              "      <td>Iranian woman jailed for fictional unpublished...</td>\n",
              "      <td>Howard Portnoy</td>\n",
              "      <td>Print \\nAn Iranian woman has been sentenced to...</td>\n",
              "      <td>1</td>\n",
              "    </tr>\n",
              "    <tr>\n",
              "      <th>5</th>\n",
              "      <td>5</td>\n",
              "      <td>Jackie Mason: Hollywood Would Love Trump if He...</td>\n",
              "      <td>Daniel Nussbaum</td>\n",
              "      <td>In these trying times, Jackie Mason is the Voi...</td>\n",
              "      <td>0</td>\n",
              "    </tr>\n",
              "    <tr>\n",
              "      <th>6</th>\n",
              "      <td>6</td>\n",
              "      <td>Life: Life Of Luxury: Elton John’s 6 Favorite ...</td>\n",
              "      <td>NaN</td>\n",
              "      <td>Ever wonder how Britain’s most iconic pop pian...</td>\n",
              "      <td>1</td>\n",
              "    </tr>\n",
              "    <tr>\n",
              "      <th>7</th>\n",
              "      <td>7</td>\n",
              "      <td>Benoît Hamon Wins French Socialist Party’s Pre...</td>\n",
              "      <td>Alissa J. Rubin</td>\n",
              "      <td>PARIS  —   France chose an idealistic, traditi...</td>\n",
              "      <td>0</td>\n",
              "    </tr>\n",
              "    <tr>\n",
              "      <th>8</th>\n",
              "      <td>8</td>\n",
              "      <td>Excerpts From a Draft Script for Donald Trump’...</td>\n",
              "      <td>NaN</td>\n",
              "      <td>Donald J. Trump is scheduled to make a highly ...</td>\n",
              "      <td>0</td>\n",
              "    </tr>\n",
              "    <tr>\n",
              "      <th>9</th>\n",
              "      <td>9</td>\n",
              "      <td>A Back-Channel Plan for Ukraine and Russia, Co...</td>\n",
              "      <td>Megan Twohey and Scott Shane</td>\n",
              "      <td>A week before Michael T. Flynn resigned as nat...</td>\n",
              "      <td>0</td>\n",
              "    </tr>\n",
              "  </tbody>\n",
              "</table>\n",
              "</div>"
            ],
            "text/plain": [
              "   id  ... label\n",
              "0   0  ...     1\n",
              "1   1  ...     0\n",
              "2   2  ...     1\n",
              "3   3  ...     1\n",
              "4   4  ...     1\n",
              "5   5  ...     0\n",
              "6   6  ...     1\n",
              "7   7  ...     0\n",
              "8   8  ...     0\n",
              "9   9  ...     0\n",
              "\n",
              "[10 rows x 5 columns]"
            ]
          },
          "metadata": {
            "tags": []
          },
          "execution_count": 28
        }
      ]
    },
    {
      "cell_type": "code",
      "metadata": {
        "id": "RVydN5ye_Yut",
        "colab_type": "code",
        "outputId": "ac013d38-428c-44bb-9859-522aaf2dff93",
        "colab": {
          "base_uri": "https://localhost:8080/",
          "height": 343
        }
      },
      "source": [
        "test_data2.head(10)"
      ],
      "execution_count": 29,
      "outputs": [
        {
          "output_type": "execute_result",
          "data": {
            "text/html": [
              "<div>\n",
              "<style scoped>\n",
              "    .dataframe tbody tr th:only-of-type {\n",
              "        vertical-align: middle;\n",
              "    }\n",
              "\n",
              "    .dataframe tbody tr th {\n",
              "        vertical-align: top;\n",
              "    }\n",
              "\n",
              "    .dataframe thead th {\n",
              "        text-align: right;\n",
              "    }\n",
              "</style>\n",
              "<table border=\"1\" class=\"dataframe\">\n",
              "  <thead>\n",
              "    <tr style=\"text-align: right;\">\n",
              "      <th></th>\n",
              "      <th>URLs</th>\n",
              "      <th>Headline</th>\n",
              "      <th>Body</th>\n",
              "      <th>Label</th>\n",
              "    </tr>\n",
              "  </thead>\n",
              "  <tbody>\n",
              "    <tr>\n",
              "      <th>0</th>\n",
              "      <td>http://www.bbc.com/news/world-us-canada-414191...</td>\n",
              "      <td>Four ways Bob Corker skewered Donald Trump</td>\n",
              "      <td>Image copyright Getty Images\\nOn Sunday mornin...</td>\n",
              "      <td>1</td>\n",
              "    </tr>\n",
              "    <tr>\n",
              "      <th>1</th>\n",
              "      <td>https://www.reuters.com/article/us-filmfestiva...</td>\n",
              "      <td>Linklater's war veteran comedy speaks to moder...</td>\n",
              "      <td>LONDON (Reuters) - “Last Flag Flying”, a comed...</td>\n",
              "      <td>1</td>\n",
              "    </tr>\n",
              "    <tr>\n",
              "      <th>2</th>\n",
              "      <td>https://www.nytimes.com/2017/10/09/us/politics...</td>\n",
              "      <td>Trump’s Fight With Corker Jeopardizes His Legi...</td>\n",
              "      <td>The feud broke into public view last week when...</td>\n",
              "      <td>1</td>\n",
              "    </tr>\n",
              "    <tr>\n",
              "      <th>3</th>\n",
              "      <td>https://www.reuters.com/article/us-mexico-oil-...</td>\n",
              "      <td>Egypt's Cheiron wins tie-up with Pemex for Mex...</td>\n",
              "      <td>MEXICO CITY (Reuters) - Egypt’s Cheiron Holdin...</td>\n",
              "      <td>1</td>\n",
              "    </tr>\n",
              "    <tr>\n",
              "      <th>4</th>\n",
              "      <td>http://www.cnn.com/videos/cnnmoney/2017/10/08/...</td>\n",
              "      <td>Jason Aldean opens 'SNL' with Vegas tribute</td>\n",
              "      <td>Country singer Jason Aldean, who was performin...</td>\n",
              "      <td>1</td>\n",
              "    </tr>\n",
              "    <tr>\n",
              "      <th>5</th>\n",
              "      <td>http://beforeitsnews.com/sports/2017/09/jetnat...</td>\n",
              "      <td>JetNation FanDuel League; Week 4</td>\n",
              "      <td>JetNation FanDuel League; Week 4\\n% of readers...</td>\n",
              "      <td>0</td>\n",
              "    </tr>\n",
              "    <tr>\n",
              "      <th>6</th>\n",
              "      <td>https://www.nytimes.com/2017/10/10/us/politics...</td>\n",
              "      <td>Kansas Tried a Tax Plan Similar to Trump’s. It...</td>\n",
              "      <td>In 2012, Kansas lawmakers, led by Gov. Sam Bro...</td>\n",
              "      <td>1</td>\n",
              "    </tr>\n",
              "    <tr>\n",
              "      <th>7</th>\n",
              "      <td>https://www.reuters.com/article/us-india-cenba...</td>\n",
              "      <td>India RBI chief: growth important, but not at ...</td>\n",
              "      <td>The Reserve Bank of India (RBI) Governor Urjit...</td>\n",
              "      <td>1</td>\n",
              "    </tr>\n",
              "    <tr>\n",
              "      <th>8</th>\n",
              "      <td>https://www.reuters.com/article/us-climatechan...</td>\n",
              "      <td>EPA chief to sign rule on Clean Power Plan exi...</td>\n",
              "      <td>Scott Pruitt, Administrator of the U.S. Enviro...</td>\n",
              "      <td>1</td>\n",
              "    </tr>\n",
              "    <tr>\n",
              "      <th>9</th>\n",
              "      <td>https://www.reuters.com/article/us-air-berlin-...</td>\n",
              "      <td>Talks on sale of Air Berlin planes to easyJet ...</td>\n",
              "      <td>FILE PHOTO - An Air Berlin sign is seen at an ...</td>\n",
              "      <td>1</td>\n",
              "    </tr>\n",
              "  </tbody>\n",
              "</table>\n",
              "</div>"
            ],
            "text/plain": [
              "                                                URLs  ... Label\n",
              "0  http://www.bbc.com/news/world-us-canada-414191...  ...     1\n",
              "1  https://www.reuters.com/article/us-filmfestiva...  ...     1\n",
              "2  https://www.nytimes.com/2017/10/09/us/politics...  ...     1\n",
              "3  https://www.reuters.com/article/us-mexico-oil-...  ...     1\n",
              "4  http://www.cnn.com/videos/cnnmoney/2017/10/08/...  ...     1\n",
              "5  http://beforeitsnews.com/sports/2017/09/jetnat...  ...     0\n",
              "6  https://www.nytimes.com/2017/10/10/us/politics...  ...     1\n",
              "7  https://www.reuters.com/article/us-india-cenba...  ...     1\n",
              "8  https://www.reuters.com/article/us-climatechan...  ...     1\n",
              "9  https://www.reuters.com/article/us-air-berlin-...  ...     1\n",
              "\n",
              "[10 rows x 4 columns]"
            ]
          },
          "metadata": {
            "tags": []
          },
          "execution_count": 29
        }
      ]
    },
    {
      "cell_type": "code",
      "metadata": {
        "id": "2M8tYOobKqQo",
        "colab_type": "code",
        "colab": {
          "base_uri": "https://localhost:8080/",
          "height": 343
        },
        "outputId": "e85589b3-c05c-4c40-d8bc-03c3f37d6f76"
      },
      "source": [
        "test_data3.head(10)"
      ],
      "execution_count": 30,
      "outputs": [
        {
          "output_type": "execute_result",
          "data": {
            "text/html": [
              "<div>\n",
              "<style scoped>\n",
              "    .dataframe tbody tr th:only-of-type {\n",
              "        vertical-align: middle;\n",
              "    }\n",
              "\n",
              "    .dataframe tbody tr th {\n",
              "        vertical-align: top;\n",
              "    }\n",
              "\n",
              "    .dataframe thead th {\n",
              "        text-align: right;\n",
              "    }\n",
              "</style>\n",
              "<table border=\"1\" class=\"dataframe\">\n",
              "  <thead>\n",
              "    <tr style=\"text-align: right;\">\n",
              "      <th></th>\n",
              "      <th>date</th>\n",
              "      <th>url</th>\n",
              "      <th>title</th>\n",
              "      <th>body</th>\n",
              "    </tr>\n",
              "  </thead>\n",
              "  <tbody>\n",
              "    <tr>\n",
              "      <th>0</th>\n",
              "      <td>2020-03-17 17:04:30 UTC</td>\n",
              "      <td>https://democratherald.com/news/national/the-l...</td>\n",
              "      <td>The Latest: Trump: US builders should hand ove...</td>\n",
              "      <td>With a population of 46 million, Spain became ...</td>\n",
              "    </tr>\n",
              "    <tr>\n",
              "      <th>1</th>\n",
              "      <td>2020-03-15 10:32:24 UTC</td>\n",
              "      <td>https://www.ballinaadvocate.com.au/news/mum-op...</td>\n",
              "      <td>Mum opts to keep kids home to stop spread of C...</td>\n",
              "      <td>The spokeswoman said until then, they were wor...</td>\n",
              "    </tr>\n",
              "    <tr>\n",
              "      <th>2</th>\n",
              "      <td>2020-03-25 05:16:51 UTC</td>\n",
              "      <td>https://www.9and10news.com/i/the-latest-south-...</td>\n",
              "      <td>The Latest: South Korea to quarantine some arr...</td>\n",
              "      <td>Wuhan will remain locked down until April 8, w...</td>\n",
              "    </tr>\n",
              "    <tr>\n",
              "      <th>3</th>\n",
              "      <td>2020-03-18 09:49:56 UTC</td>\n",
              "      <td>https://www.nytimes.com/2020/03/18/world/asia/...</td>\n",
              "      <td>China Defends Expulsion of American Journalist...</td>\n",
              "      <td>Under Mr. Xi, the news media has come under an...</td>\n",
              "    </tr>\n",
              "    <tr>\n",
              "      <th>4</th>\n",
              "      <td>2020-03-19 02:18:24 UTC</td>\n",
              "      <td>https://www.pakistantelegraph.com/news/2643497...</td>\n",
              "      <td>Why New Zealand needs to continue decisive act...</td>\n",
              "      <td>With some of the toughest border restrictions ...</td>\n",
              "    </tr>\n",
              "    <tr>\n",
              "      <th>5</th>\n",
              "      <td>2020-03-13 19:47:48 UTC</td>\n",
              "      <td>https://www.postsouth.com/zz/news/20200313/cor...</td>\n",
              "      <td>Coronavirus updates: Trump expected to declare...</td>\n",
              "      <td>Worries have grown that the White House and ot...</td>\n",
              "    </tr>\n",
              "    <tr>\n",
              "      <th>6</th>\n",
              "      <td>2020-03-05 13:34:23 UTC</td>\n",
              "      <td>https://www.politico.com/newsletters/illinois-...</td>\n",
              "      <td>BIDEN, SANDERS RAMP UP THE ADS — BATTLE ROYAL ...</td>\n",
              "      <td>Trump's vaccine hyperbole complicates coronavi...</td>\n",
              "    </tr>\n",
              "    <tr>\n",
              "      <th>7</th>\n",
              "      <td>2020-03-26 10:18:53 UTC</td>\n",
              "      <td>https://www.ndtv.com/business/government-coron...</td>\n",
              "      <td>government coronavirus economic package pf con...</td>\n",
              "      <td>Government Provides Relief In Provident Fund C...</td>\n",
              "    </tr>\n",
              "    <tr>\n",
              "      <th>8</th>\n",
              "      <td>2020-03-19 18:18:33 UTC</td>\n",
              "      <td>https://www.myiowainfo.com/syndicated-article/...</td>\n",
              "      <td>Slayer's Gary Holt says he has \"all the sympto...</td>\n",
              "      <td>While he's hunkered down at home, Holt plans t...</td>\n",
              "    </tr>\n",
              "    <tr>\n",
              "      <th>9</th>\n",
              "      <td>2020-03-22 20:48:04 UTC</td>\n",
              "      <td>https://www.kgns.tv/content/news/As-crisis-dee...</td>\n",
              "      <td>As coronavirus crisis deepens, congressional r...</td>\n",
              "      <td>Yet while the congressional leaders worked to ...</td>\n",
              "    </tr>\n",
              "  </tbody>\n",
              "</table>\n",
              "</div>"
            ],
            "text/plain": [
              "                      date  ...                                               body\n",
              "0  2020-03-17 17:04:30 UTC  ...  With a population of 46 million, Spain became ...\n",
              "1  2020-03-15 10:32:24 UTC  ...  The spokeswoman said until then, they were wor...\n",
              "2  2020-03-25 05:16:51 UTC  ...  Wuhan will remain locked down until April 8, w...\n",
              "3  2020-03-18 09:49:56 UTC  ...  Under Mr. Xi, the news media has come under an...\n",
              "4  2020-03-19 02:18:24 UTC  ...  With some of the toughest border restrictions ...\n",
              "5  2020-03-13 19:47:48 UTC  ...  Worries have grown that the White House and ot...\n",
              "6  2020-03-05 13:34:23 UTC  ...  Trump's vaccine hyperbole complicates coronavi...\n",
              "7  2020-03-26 10:18:53 UTC  ...  Government Provides Relief In Provident Fund C...\n",
              "8  2020-03-19 18:18:33 UTC  ...  While he's hunkered down at home, Holt plans t...\n",
              "9  2020-03-22 20:48:04 UTC  ...  Yet while the congressional leaders worked to ...\n",
              "\n",
              "[10 rows x 4 columns]"
            ]
          },
          "metadata": {
            "tags": []
          },
          "execution_count": 30
        }
      ]
    },
    {
      "cell_type": "code",
      "metadata": {
        "id": "7gasR2hi_cF2",
        "colab_type": "code",
        "outputId": "e5e13f99-6b0c-4984-dd83-3451d93b58c1",
        "colab": {
          "base_uri": "https://localhost:8080/",
          "height": 195
        }
      },
      "source": [
        "test_data3['label'] = 0\n",
        "test_data3.head()"
      ],
      "execution_count": 31,
      "outputs": [
        {
          "output_type": "execute_result",
          "data": {
            "text/html": [
              "<div>\n",
              "<style scoped>\n",
              "    .dataframe tbody tr th:only-of-type {\n",
              "        vertical-align: middle;\n",
              "    }\n",
              "\n",
              "    .dataframe tbody tr th {\n",
              "        vertical-align: top;\n",
              "    }\n",
              "\n",
              "    .dataframe thead th {\n",
              "        text-align: right;\n",
              "    }\n",
              "</style>\n",
              "<table border=\"1\" class=\"dataframe\">\n",
              "  <thead>\n",
              "    <tr style=\"text-align: right;\">\n",
              "      <th></th>\n",
              "      <th>date</th>\n",
              "      <th>url</th>\n",
              "      <th>title</th>\n",
              "      <th>body</th>\n",
              "      <th>label</th>\n",
              "    </tr>\n",
              "  </thead>\n",
              "  <tbody>\n",
              "    <tr>\n",
              "      <th>0</th>\n",
              "      <td>2020-03-17 17:04:30 UTC</td>\n",
              "      <td>https://democratherald.com/news/national/the-l...</td>\n",
              "      <td>The Latest: Trump: US builders should hand ove...</td>\n",
              "      <td>With a population of 46 million, Spain became ...</td>\n",
              "      <td>0</td>\n",
              "    </tr>\n",
              "    <tr>\n",
              "      <th>1</th>\n",
              "      <td>2020-03-15 10:32:24 UTC</td>\n",
              "      <td>https://www.ballinaadvocate.com.au/news/mum-op...</td>\n",
              "      <td>Mum opts to keep kids home to stop spread of C...</td>\n",
              "      <td>The spokeswoman said until then, they were wor...</td>\n",
              "      <td>0</td>\n",
              "    </tr>\n",
              "    <tr>\n",
              "      <th>2</th>\n",
              "      <td>2020-03-25 05:16:51 UTC</td>\n",
              "      <td>https://www.9and10news.com/i/the-latest-south-...</td>\n",
              "      <td>The Latest: South Korea to quarantine some arr...</td>\n",
              "      <td>Wuhan will remain locked down until April 8, w...</td>\n",
              "      <td>0</td>\n",
              "    </tr>\n",
              "    <tr>\n",
              "      <th>3</th>\n",
              "      <td>2020-03-18 09:49:56 UTC</td>\n",
              "      <td>https://www.nytimes.com/2020/03/18/world/asia/...</td>\n",
              "      <td>China Defends Expulsion of American Journalist...</td>\n",
              "      <td>Under Mr. Xi, the news media has come under an...</td>\n",
              "      <td>0</td>\n",
              "    </tr>\n",
              "    <tr>\n",
              "      <th>4</th>\n",
              "      <td>2020-03-19 02:18:24 UTC</td>\n",
              "      <td>https://www.pakistantelegraph.com/news/2643497...</td>\n",
              "      <td>Why New Zealand needs to continue decisive act...</td>\n",
              "      <td>With some of the toughest border restrictions ...</td>\n",
              "      <td>0</td>\n",
              "    </tr>\n",
              "  </tbody>\n",
              "</table>\n",
              "</div>"
            ],
            "text/plain": [
              "                      date  ... label\n",
              "0  2020-03-17 17:04:30 UTC  ...     0\n",
              "1  2020-03-15 10:32:24 UTC  ...     0\n",
              "2  2020-03-25 05:16:51 UTC  ...     0\n",
              "3  2020-03-18 09:49:56 UTC  ...     0\n",
              "4  2020-03-19 02:18:24 UTC  ...     0\n",
              "\n",
              "[5 rows x 5 columns]"
            ]
          },
          "metadata": {
            "tags": []
          },
          "execution_count": 31
        }
      ]
    },
    {
      "cell_type": "code",
      "metadata": {
        "id": "0W12IGq3fxDP",
        "colab_type": "code",
        "outputId": "e6439711-11cf-4eeb-fc5f-de8ef0ccd35f",
        "colab": {
          "base_uri": "https://localhost:8080/",
          "height": 195
        }
      },
      "source": [
        "test_data4['label'] = 1\n",
        "test_data4.head()"
      ],
      "execution_count": 32,
      "outputs": [
        {
          "output_type": "execute_result",
          "data": {
            "text/html": [
              "<div>\n",
              "<style scoped>\n",
              "    .dataframe tbody tr th:only-of-type {\n",
              "        vertical-align: middle;\n",
              "    }\n",
              "\n",
              "    .dataframe tbody tr th {\n",
              "        vertical-align: top;\n",
              "    }\n",
              "\n",
              "    .dataframe thead th {\n",
              "        text-align: right;\n",
              "    }\n",
              "</style>\n",
              "<table border=\"1\" class=\"dataframe\">\n",
              "  <thead>\n",
              "    <tr style=\"text-align: right;\">\n",
              "      <th></th>\n",
              "      <th>date</th>\n",
              "      <th>url</th>\n",
              "      <th>title</th>\n",
              "      <th>body</th>\n",
              "      <th>label</th>\n",
              "    </tr>\n",
              "  </thead>\n",
              "  <tbody>\n",
              "    <tr>\n",
              "      <th>0</th>\n",
              "      <td>2020-02-07 17:03:45 UTC</td>\n",
              "      <td>https://www.bbc.com/news/world-europe-51413870</td>\n",
              "      <td>Coronavirus: Russian media hint at US conspiracy</td>\n",
              "      <td>The report also rehashes old, false claims by ...</td>\n",
              "      <td>1</td>\n",
              "    </tr>\n",
              "    <tr>\n",
              "      <th>1</th>\n",
              "      <td>2020-03-05 10:48:15 UTC</td>\n",
              "      <td>https://www.middleeasteye.net/news/coronavirus...</td>\n",
              "      <td>Conspiracies, remedies, remixes: Five ways the...</td>\n",
              "      <td>She said the Gulf emirate spread coronavirus t...</td>\n",
              "      <td>1</td>\n",
              "    </tr>\n",
              "    <tr>\n",
              "      <th>2</th>\n",
              "      <td>2020-03-19 22:17:40 UTC</td>\n",
              "      <td>https://www.standardmedia.co.ke/article/200136...</td>\n",
              "      <td>Why naming COVID-19 patients will help State f...</td>\n",
              "      <td>Therefore, when one relates to the experiences...</td>\n",
              "      <td>1</td>\n",
              "    </tr>\n",
              "    <tr>\n",
              "      <th>3</th>\n",
              "      <td>2020-02-17 06:48:00 UTC</td>\n",
              "      <td>https://www.rediff.com/news/report/china-virus...</td>\n",
              "      <td>China virus toll rises to 1,770; cases up to 7...</td>\n",
              "      <td>Ghebreyesus also met Chinese Foreign Minister ...</td>\n",
              "      <td>1</td>\n",
              "    </tr>\n",
              "    <tr>\n",
              "      <th>4</th>\n",
              "      <td>2020-03-26 01:16:45 UTC</td>\n",
              "      <td>https://www.nbcnews.com/news/asian-america/hou...</td>\n",
              "      <td>House members introduce resolution to pin coro...</td>\n",
              "      <td>In California, an Asian teen was sent to the e...</td>\n",
              "      <td>1</td>\n",
              "    </tr>\n",
              "  </tbody>\n",
              "</table>\n",
              "</div>"
            ],
            "text/plain": [
              "                      date  ... label\n",
              "0  2020-02-07 17:03:45 UTC  ...     1\n",
              "1  2020-03-05 10:48:15 UTC  ...     1\n",
              "2  2020-03-19 22:17:40 UTC  ...     1\n",
              "3  2020-02-17 06:48:00 UTC  ...     1\n",
              "4  2020-03-26 01:16:45 UTC  ...     1\n",
              "\n",
              "[5 rows x 5 columns]"
            ]
          },
          "metadata": {
            "tags": []
          },
          "execution_count": 32
        }
      ]
    },
    {
      "cell_type": "code",
      "metadata": {
        "id": "8bp6kWfh_7oM",
        "colab_type": "code",
        "outputId": "8e28d198-1064-46a1-f1b7-2f24736a3a9f",
        "colab": {
          "base_uri": "https://localhost:8080/",
          "height": 84
        }
      },
      "source": [
        "print('Shape of Dataset 1 :', test_data1.shape)\n",
        "print('Shape of Dataset 2 :', test_data2.shape)\n",
        "print('Shape of Dataset 3 :', test_data3.shape)\n",
        "print('Shape of Dataset 4 :', test_data4.shape)"
      ],
      "execution_count": 33,
      "outputs": [
        {
          "output_type": "stream",
          "text": [
            "Shape of Dataset 1 : (20800, 5)\n",
            "Shape of Dataset 2 : (4009, 4)\n",
            "Shape of Dataset 3 : (2848383, 5)\n",
            "Shape of Dataset 4 : (60172, 5)\n"
          ],
          "name": "stdout"
        }
      ]
    },
    {
      "cell_type": "code",
      "metadata": {
        "id": "NMdOtjc6cIkg",
        "colab_type": "code",
        "colab": {}
      },
      "source": [
        "test = test_data3.head(20000)"
      ],
      "execution_count": 0,
      "outputs": []
    },
    {
      "cell_type": "code",
      "metadata": {
        "id": "0L-48Cjsd0yR",
        "colab_type": "code",
        "outputId": "f6337912-5972-4bbd-c04f-eea6d6b81942",
        "colab": {
          "base_uri": "https://localhost:8080/",
          "height": 402
        }
      },
      "source": [
        "test"
      ],
      "execution_count": 35,
      "outputs": [
        {
          "output_type": "execute_result",
          "data": {
            "text/html": [
              "<div>\n",
              "<style scoped>\n",
              "    .dataframe tbody tr th:only-of-type {\n",
              "        vertical-align: middle;\n",
              "    }\n",
              "\n",
              "    .dataframe tbody tr th {\n",
              "        vertical-align: top;\n",
              "    }\n",
              "\n",
              "    .dataframe thead th {\n",
              "        text-align: right;\n",
              "    }\n",
              "</style>\n",
              "<table border=\"1\" class=\"dataframe\">\n",
              "  <thead>\n",
              "    <tr style=\"text-align: right;\">\n",
              "      <th></th>\n",
              "      <th>date</th>\n",
              "      <th>url</th>\n",
              "      <th>title</th>\n",
              "      <th>body</th>\n",
              "      <th>label</th>\n",
              "    </tr>\n",
              "  </thead>\n",
              "  <tbody>\n",
              "    <tr>\n",
              "      <th>0</th>\n",
              "      <td>2020-03-17 17:04:30 UTC</td>\n",
              "      <td>https://democratherald.com/news/national/the-l...</td>\n",
              "      <td>The Latest: Trump: US builders should hand ove...</td>\n",
              "      <td>With a population of 46 million, Spain became ...</td>\n",
              "      <td>0</td>\n",
              "    </tr>\n",
              "    <tr>\n",
              "      <th>1</th>\n",
              "      <td>2020-03-15 10:32:24 UTC</td>\n",
              "      <td>https://www.ballinaadvocate.com.au/news/mum-op...</td>\n",
              "      <td>Mum opts to keep kids home to stop spread of C...</td>\n",
              "      <td>The spokeswoman said until then, they were wor...</td>\n",
              "      <td>0</td>\n",
              "    </tr>\n",
              "    <tr>\n",
              "      <th>2</th>\n",
              "      <td>2020-03-25 05:16:51 UTC</td>\n",
              "      <td>https://www.9and10news.com/i/the-latest-south-...</td>\n",
              "      <td>The Latest: South Korea to quarantine some arr...</td>\n",
              "      <td>Wuhan will remain locked down until April 8, w...</td>\n",
              "      <td>0</td>\n",
              "    </tr>\n",
              "    <tr>\n",
              "      <th>3</th>\n",
              "      <td>2020-03-18 09:49:56 UTC</td>\n",
              "      <td>https://www.nytimes.com/2020/03/18/world/asia/...</td>\n",
              "      <td>China Defends Expulsion of American Journalist...</td>\n",
              "      <td>Under Mr. Xi, the news media has come under an...</td>\n",
              "      <td>0</td>\n",
              "    </tr>\n",
              "    <tr>\n",
              "      <th>4</th>\n",
              "      <td>2020-03-19 02:18:24 UTC</td>\n",
              "      <td>https://www.pakistantelegraph.com/news/2643497...</td>\n",
              "      <td>Why New Zealand needs to continue decisive act...</td>\n",
              "      <td>With some of the toughest border restrictions ...</td>\n",
              "      <td>0</td>\n",
              "    </tr>\n",
              "    <tr>\n",
              "      <th>...</th>\n",
              "      <td>...</td>\n",
              "      <td>...</td>\n",
              "      <td>...</td>\n",
              "      <td>...</td>\n",
              "      <td>...</td>\n",
              "    </tr>\n",
              "    <tr>\n",
              "      <th>19995</th>\n",
              "      <td>2020-03-21 03:17:06 UTC</td>\n",
              "      <td>https://www.kalb.com/content/news/FDA-warns-of...</td>\n",
              "      <td>FDA warns of fraudulent coronavirus diagnostic...</td>\n",
              "      <td>WASHINGTON, D.C. (FDA) - The U.S. Food and Dru...</td>\n",
              "      <td>0</td>\n",
              "    </tr>\n",
              "    <tr>\n",
              "      <th>19996</th>\n",
              "      <td>2020-02-17 16:17:23 UTC</td>\n",
              "      <td>https://www.wftw.com/news/5-things-to-know-for...</td>\n",
              "      <td>5 things to know for February 17: Coronavirus,...</td>\n",
              "      <td>Sign up here.) 1. Coronavirus As the coronavir...</td>\n",
              "      <td>0</td>\n",
              "    </tr>\n",
              "    <tr>\n",
              "      <th>19997</th>\n",
              "      <td>2020-02-15 12:02:54 UTC</td>\n",
              "      <td>https://www.smdailyjournal.com/news/world/us-d...</td>\n",
              "      <td>US defense chief slams China as rising threat ...</td>\n",
              "      <td>MUNICH, Germany (AP) — U.S. Defense Secretary ...</td>\n",
              "      <td>0</td>\n",
              "    </tr>\n",
              "    <tr>\n",
              "      <th>19998</th>\n",
              "      <td>2020-02-29 20:32:50 UTC</td>\n",
              "      <td>https://www.abbynews.com/news/public-health-ag...</td>\n",
              "      <td>Public health agency weighs stronger COVID-19 ...</td>\n",
              "      <td>The nurses' unions warned the national guideli...</td>\n",
              "      <td>0</td>\n",
              "    </tr>\n",
              "    <tr>\n",
              "      <th>19999</th>\n",
              "      <td>2020-02-29 20:03:23 UTC</td>\n",
              "      <td>https://tribune.net.ph/index.php/2020/03/01/co...</td>\n",
              "      <td>Corona? Beer survives scare | World</td>\n",
              "      <td>NEW YORK (AFP) — Confusion between coronavirus...</td>\n",
              "      <td>0</td>\n",
              "    </tr>\n",
              "  </tbody>\n",
              "</table>\n",
              "<p>20000 rows × 5 columns</p>\n",
              "</div>"
            ],
            "text/plain": [
              "                          date  ... label\n",
              "0      2020-03-17 17:04:30 UTC  ...     0\n",
              "1      2020-03-15 10:32:24 UTC  ...     0\n",
              "2      2020-03-25 05:16:51 UTC  ...     0\n",
              "3      2020-03-18 09:49:56 UTC  ...     0\n",
              "4      2020-03-19 02:18:24 UTC  ...     0\n",
              "...                        ...  ...   ...\n",
              "19995  2020-03-21 03:17:06 UTC  ...     0\n",
              "19996  2020-02-17 16:17:23 UTC  ...     0\n",
              "19997  2020-02-15 12:02:54 UTC  ...     0\n",
              "19998  2020-02-29 20:32:50 UTC  ...     0\n",
              "19999  2020-02-29 20:03:23 UTC  ...     0\n",
              "\n",
              "[20000 rows x 5 columns]"
            ]
          },
          "metadata": {
            "tags": []
          },
          "execution_count": 35
        }
      ]
    },
    {
      "cell_type": "code",
      "metadata": {
        "id": "l2uUe3vWgzZn",
        "colab_type": "code",
        "outputId": "749aedd3-3df7-4021-9e0f-1cd11bf34e47",
        "colab": {
          "base_uri": "https://localhost:8080/",
          "height": 639
        }
      },
      "source": [
        "test_data3 = test_data3.drop_duplicates(keep = False)\n",
        "test_data4 = test_data4.drop_duplicates(keep = False)\n",
        "\n",
        "merged = pd.concat([test_data3.head(30000), test_data4.head(20000)])\n",
        "merged['id'] = range(1, len(merged) + 1)\n",
        "merged = merged[['id', 'date','url', 'title', 'body', 'label']]\n",
        "merged = shuffle(shuffle(merged))\n",
        "merged.head(20)"
      ],
      "execution_count": 36,
      "outputs": [
        {
          "output_type": "execute_result",
          "data": {
            "text/html": [
              "<div>\n",
              "<style scoped>\n",
              "    .dataframe tbody tr th:only-of-type {\n",
              "        vertical-align: middle;\n",
              "    }\n",
              "\n",
              "    .dataframe tbody tr th {\n",
              "        vertical-align: top;\n",
              "    }\n",
              "\n",
              "    .dataframe thead th {\n",
              "        text-align: right;\n",
              "    }\n",
              "</style>\n",
              "<table border=\"1\" class=\"dataframe\">\n",
              "  <thead>\n",
              "    <tr style=\"text-align: right;\">\n",
              "      <th></th>\n",
              "      <th>id</th>\n",
              "      <th>date</th>\n",
              "      <th>url</th>\n",
              "      <th>title</th>\n",
              "      <th>body</th>\n",
              "      <th>label</th>\n",
              "    </tr>\n",
              "  </thead>\n",
              "  <tbody>\n",
              "    <tr>\n",
              "      <th>16349</th>\n",
              "      <td>16350</td>\n",
              "      <td>2020-03-03 11:20:31 UTC</td>\n",
              "      <td>https://www.richmondandtwickenhamtimes.co.uk/n...</td>\n",
              "      <td>Iran announces 77 deaths amid coronavirus outb...</td>\n",
              "      <td>Virus outbreak in Iran / Virus Outbreak Mideas...</td>\n",
              "      <td>0</td>\n",
              "    </tr>\n",
              "    <tr>\n",
              "      <th>12263</th>\n",
              "      <td>42264</td>\n",
              "      <td>2020-03-18 01:33:49 UTC</td>\n",
              "      <td>https://www.washingtontimes.com/news/2020/mar/...</td>\n",
              "      <td>Trump defends virus tweet as China kicks out m...</td>\n",
              "      <td>Secretary of State Mike Pompeo this week also ...</td>\n",
              "      <td>1</td>\n",
              "    </tr>\n",
              "    <tr>\n",
              "      <th>21457</th>\n",
              "      <td>21458</td>\n",
              "      <td>2020-03-23 11:17:44 UTC</td>\n",
              "      <td>https://www.nbc15.com/content/news/Pompeo-rush...</td>\n",
              "      <td>Pompeo rushes to Afghan capital to revive flag...</td>\n",
              "      <td>The urgency of Pompeo's surprise visit was hig...</td>\n",
              "      <td>0</td>\n",
              "    </tr>\n",
              "    <tr>\n",
              "      <th>6328</th>\n",
              "      <td>36329</td>\n",
              "      <td>2020-03-20 07:34:36 UTC</td>\n",
              "      <td>https://www.europesun.com/news/264360610/analy...</td>\n",
              "      <td>Analysts: Russia Using Virus Crisis to Sow Dis...</td>\n",
              "      <td>WASHINGTON - Russia is very likely behind a di...</td>\n",
              "      <td>1</td>\n",
              "    </tr>\n",
              "    <tr>\n",
              "      <th>16230</th>\n",
              "      <td>16231</td>\n",
              "      <td>2020-03-12 11:49:48 UTC</td>\n",
              "      <td>https://www.funds-europe.com/news/mixed-reacti...</td>\n",
              "      <td>Mixed reactions as BoE slashes rates in respon...</td>\n",
              "      <td>While financial conditions are not yet tight, ...</td>\n",
              "      <td>0</td>\n",
              "    </tr>\n",
              "    <tr>\n",
              "      <th>26073</th>\n",
              "      <td>26074</td>\n",
              "      <td>2020-03-01 16:03:35 UTC</td>\n",
              "      <td>https://www.nbcchicago.com/tag/louvre-museum/</td>\n",
              "      <td>Louvre museum – NBC Chicago</td>\n",
              "      <td>Louvre museum 13 mins ago The spreading coron...</td>\n",
              "      <td>0</td>\n",
              "    </tr>\n",
              "    <tr>\n",
              "      <th>28706</th>\n",
              "      <td>28707</td>\n",
              "      <td>2020-03-26 03:01:35 UTC</td>\n",
              "      <td>https://www.nknews.org/2020/03/stay-firm-on-no...</td>\n",
              "      <td>Stay firm on North Korea \"pressure\" campaign, ...</td>\n",
              "      <td>The world must remain united in efforts to pre...</td>\n",
              "      <td>0</td>\n",
              "    </tr>\n",
              "    <tr>\n",
              "      <th>4851</th>\n",
              "      <td>34852</td>\n",
              "      <td>2020-03-11 14:34:25 UTC</td>\n",
              "      <td>https://citizen.co.za/news/south-africa/health...</td>\n",
              "      <td>Western Cape's Covid-19 outbreak response team...</td>\n",
              "      <td>I have convened a special cabinet on Friday wh...</td>\n",
              "      <td>1</td>\n",
              "    </tr>\n",
              "    <tr>\n",
              "      <th>17178</th>\n",
              "      <td>17179</td>\n",
              "      <td>2020-03-17 04:33:20 UTC</td>\n",
              "      <td>https://accesswdun.com/article/2020/3/885224</td>\n",
              "      <td>Georgia's park quarantine has 1 resident as vi...</td>\n",
              "      <td>Separately, 124 passengers flown in from the G...</td>\n",
              "      <td>0</td>\n",
              "    </tr>\n",
              "    <tr>\n",
              "      <th>10294</th>\n",
              "      <td>10295</td>\n",
              "      <td>2020-02-24 21:31:47 UTC</td>\n",
              "      <td>https://wbckfm.com/hundreds-being-monitored-in...</td>\n",
              "      <td>Hundreds Being Monitored In Michigan For Coron...</td>\n",
              "      <td>Officials with the Michigan Department of Heal...</td>\n",
              "      <td>0</td>\n",
              "    </tr>\n",
              "    <tr>\n",
              "      <th>13572</th>\n",
              "      <td>43573</td>\n",
              "      <td>2020-03-23 13:03:31 UTC</td>\n",
              "      <td>https://www.sheboyganpress.com/story/news/2020...</td>\n",
              "      <td>Coronavirus impact: Sheboygan Wenig and Zimmer...</td>\n",
              "      <td>A lot of people don't see funeral directors as...</td>\n",
              "      <td>1</td>\n",
              "    </tr>\n",
              "    <tr>\n",
              "      <th>4863</th>\n",
              "      <td>34864</td>\n",
              "      <td>2020-03-06 03:47:03 UTC</td>\n",
              "      <td>https://www.ibtimes.com/coronavirus-outbreak-u...</td>\n",
              "      <td>Coronavirus Outbreak A 'US Biological Attack'?...</td>\n",
              "      <td>Russia claims COVID-19 is really an American b...</td>\n",
              "      <td>1</td>\n",
              "    </tr>\n",
              "    <tr>\n",
              "      <th>6127</th>\n",
              "      <td>6128</td>\n",
              "      <td>2020-03-26 22:47:15 UTC</td>\n",
              "      <td>https://rock921.iheart.com/content/2020-03-26-...</td>\n",
              "      <td>President Trump Says He's Preparing New Social...</td>\n",
              "      <td>While he is optimistic that the goal can be me...</td>\n",
              "      <td>0</td>\n",
              "    </tr>\n",
              "    <tr>\n",
              "      <th>13848</th>\n",
              "      <td>13849</td>\n",
              "      <td>2020-03-24 13:50:23 UTC</td>\n",
              "      <td>https://www.wjbc.com/news/olympic-teams-and-at...</td>\n",
              "      <td>Olympic teams and athletes want the 2020 games...</td>\n",
              "      <td>Tokyo's Organizing Committee President Yoshiro...</td>\n",
              "      <td>0</td>\n",
              "    </tr>\n",
              "    <tr>\n",
              "      <th>18266</th>\n",
              "      <td>18267</td>\n",
              "      <td>2020-02-05 10:48:22 UTC</td>\n",
              "      <td>https://www.iol.co.za/news/world/a-newly-embol...</td>\n",
              "      <td>A newly emboldened Donald Trump gives Democrat...</td>\n",
              "      <td>He spoke of child-care initiatives, and effort...</td>\n",
              "      <td>0</td>\n",
              "    </tr>\n",
              "    <tr>\n",
              "      <th>854</th>\n",
              "      <td>30855</td>\n",
              "      <td>2020-03-23 00:02:41 UTC</td>\n",
              "      <td>http://www.jamaicaobserver.com/latestnews/Nurs...</td>\n",
              "      <td>Nurses president urges public to shun misinfor...</td>\n",
              "      <td>KINGSTON, Jamaica — Carmen Johnson, president ...</td>\n",
              "      <td>1</td>\n",
              "    </tr>\n",
              "    <tr>\n",
              "      <th>18987</th>\n",
              "      <td>48988</td>\n",
              "      <td>2020-03-18 15:02:14 UTC</td>\n",
              "      <td>https://mixx993.com/abc-news-entertainment/8c3...</td>\n",
              "      <td>ABC News Entertainment - Mixx 99.3</td>\n",
              "      <td>ABC/Heidi Gutman(LOS ANGELES) -- A day after ...</td>\n",
              "      <td>1</td>\n",
              "    </tr>\n",
              "    <tr>\n",
              "      <th>26214</th>\n",
              "      <td>26215</td>\n",
              "      <td>2020-01-26 03:17:22 UTC</td>\n",
              "      <td>https://www.ominecaexpress.com/news/presumptiv...</td>\n",
              "      <td>'Presumptive case' of coronavirus in Canada co...</td>\n",
              "      <td>Ontario doctors have confirmed Canada's first ...</td>\n",
              "      <td>0</td>\n",
              "    </tr>\n",
              "    <tr>\n",
              "      <th>17310</th>\n",
              "      <td>47311</td>\n",
              "      <td>2020-02-01 01:32:16 UTC</td>\n",
              "      <td>https://www.timesunion.com/news/article/NOT-RE...</td>\n",
              "      <td>NOT REAL NEWS: A look at what didn't happen th...</td>\n",
              "      <td>The U.S. Food and Drug Administration warns ag...</td>\n",
              "      <td>1</td>\n",
              "    </tr>\n",
              "    <tr>\n",
              "      <th>9225</th>\n",
              "      <td>39226</td>\n",
              "      <td>2020-03-06 21:47:55 UTC</td>\n",
              "      <td>https://www.wateronline.com/doc/coronavirus-an...</td>\n",
              "      <td>Coronavirus And The Water Cycle — Here Is What...</td>\n",
              "      <td>The WHO found that risk communication and comm...</td>\n",
              "      <td>1</td>\n",
              "    </tr>\n",
              "  </tbody>\n",
              "</table>\n",
              "</div>"
            ],
            "text/plain": [
              "          id  ... label\n",
              "16349  16350  ...     0\n",
              "12263  42264  ...     1\n",
              "21457  21458  ...     0\n",
              "6328   36329  ...     1\n",
              "16230  16231  ...     0\n",
              "26073  26074  ...     0\n",
              "28706  28707  ...     0\n",
              "4851   34852  ...     1\n",
              "17178  17179  ...     0\n",
              "10294  10295  ...     0\n",
              "13572  43573  ...     1\n",
              "4863   34864  ...     1\n",
              "6127    6128  ...     0\n",
              "13848  13849  ...     0\n",
              "18266  18267  ...     0\n",
              "854    30855  ...     1\n",
              "18987  48988  ...     1\n",
              "26214  26215  ...     0\n",
              "17310  47311  ...     1\n",
              "9225   39226  ...     1\n",
              "\n",
              "[20 rows x 6 columns]"
            ]
          },
          "metadata": {
            "tags": []
          },
          "execution_count": 36
        }
      ]
    },
    {
      "cell_type": "markdown",
      "metadata": {
        "id": "w5hBeXO67cnI",
        "colab_type": "text"
      },
      "source": [
        "# Data Pre-Processing"
      ]
    },
    {
      "cell_type": "markdown",
      "metadata": {
        "id": "cTEDGiK27g8A",
        "colab_type": "text"
      },
      "source": [
        "**Dropping the NULL**\n",
        "\n",
        "\n",
        "\n"
      ]
    },
    {
      "cell_type": "code",
      "metadata": {
        "id": "fy7RD9uIu9ax",
        "colab_type": "code",
        "outputId": "217ea8a0-9bfe-4c8f-c6fb-2b0f2c69e90e",
        "colab": {
          "base_uri": "https://localhost:8080/",
          "height": 34
        }
      },
      "source": [
        "test_data1.columns"
      ],
      "execution_count": 37,
      "outputs": [
        {
          "output_type": "execute_result",
          "data": {
            "text/plain": [
              "Index(['id', 'title', 'author', 'text', 'label'], dtype='object')"
            ]
          },
          "metadata": {
            "tags": []
          },
          "execution_count": 37
        }
      ]
    },
    {
      "cell_type": "code",
      "metadata": {
        "id": "aUzpvl_FsSZb",
        "colab_type": "code",
        "outputId": "2cdfe157-2afa-48aa-bb96-e7d69cb2b3fb",
        "colab": {
          "base_uri": "https://localhost:8080/",
          "height": 34
        }
      },
      "source": [
        "test_data2.columns"
      ],
      "execution_count": 38,
      "outputs": [
        {
          "output_type": "execute_result",
          "data": {
            "text/plain": [
              "Index(['URLs', 'Headline', 'Body', 'Label'], dtype='object')"
            ]
          },
          "metadata": {
            "tags": []
          },
          "execution_count": 38
        }
      ]
    },
    {
      "cell_type": "code",
      "metadata": {
        "id": "4BJn7y9qecYU",
        "colab_type": "code",
        "outputId": "1e378a85-33a0-4eee-f111-1b5b0867ac17",
        "colab": {
          "base_uri": "https://localhost:8080/",
          "height": 34
        }
      },
      "source": [
        "merged.columns"
      ],
      "execution_count": 39,
      "outputs": [
        {
          "output_type": "execute_result",
          "data": {
            "text/plain": [
              "Index(['id', 'date', 'url', 'title', 'body', 'label'], dtype='object')"
            ]
          },
          "metadata": {
            "tags": []
          },
          "execution_count": 39
        }
      ]
    },
    {
      "cell_type": "code",
      "metadata": {
        "id": "32hjSEWEDxSm",
        "colab_type": "code",
        "outputId": "48319292-0ca0-4586-a445-e43425676f07",
        "colab": {
          "base_uri": "https://localhost:8080/",
          "height": 437
        }
      },
      "source": [
        "# # Dropping label field\n",
        "df_train1 = test_data1\n",
        "df_train2 = test_data2\n",
        "df_train3 = merged\n",
        "\n",
        "# Removing (dropping) the null values\n",
        "print('Train Data 1:\\n==========\\n',test_data1.isna().sum())\n",
        "df_train1[['title', 'author']] = test_data1[['title', 'author']].fillna(value = 'Missing')\n",
        "df_train1 = df_train1.dropna()\n",
        "label = df_train1['label']\n",
        "\n",
        "print('\\nTrain Data 2:\\n==========\\n',test_data2.isna().sum())\n",
        "test_data2[['URLs', 'Headline']] = test_data2[['URLs', 'Headline']].fillna(value = 'Missing')\n",
        "df_train2 = df_train2.dropna()\n",
        "label1 = df_train2['Label']\n",
        "\n",
        "print('\\nTrain Data 3:\\n==========\\n',test_data3.isna().sum())\n",
        "test_data3[['url', 'title']] = test_data3[['url', 'title']].fillna(value = 'Missing')\n",
        "df_train3 = df_train3.dropna()\n",
        "label2 = df_train3['label']\n",
        "\n",
        "# df_train1.shape\n",
        "# df_train2.shape"
      ],
      "execution_count": 40,
      "outputs": [
        {
          "output_type": "stream",
          "text": [
            "Train Data 1:\n",
            "==========\n",
            " id           0\n",
            "title      558\n",
            "author    1957\n",
            "text        39\n",
            "label        0\n",
            "dtype: int64\n",
            "\n",
            "Train Data 2:\n",
            "==========\n",
            " URLs         0\n",
            "Headline     0\n",
            "Body        21\n",
            "Label        0\n",
            "dtype: int64\n",
            "\n",
            "Train Data 3:\n",
            "==========\n",
            " date        0\n",
            "url         0\n",
            "title    1888\n",
            "body        0\n",
            "label       0\n",
            "dtype: int64\n"
          ],
          "name": "stdout"
        }
      ]
    },
    {
      "cell_type": "markdown",
      "metadata": {
        "id": "2hAWmllyxW9J",
        "colab_type": "text"
      },
      "source": [
        "df_train1 => test_dataset1 excluding Label\n",
        ", label => test_dataset1 Label\n",
        "\n",
        "df_train2 => test_dataset2 excluding Label\n",
        ", label1 => test_dataset2 Label"
      ]
    },
    {
      "cell_type": "markdown",
      "metadata": {
        "id": "oORXxE8z7st6",
        "colab_type": "text"
      },
      "source": [
        "\n",
        "**Converting the data to lower case**\n",
        "\n"
      ]
    },
    {
      "cell_type": "code",
      "metadata": {
        "id": "qw7gOKrYdP-X",
        "colab_type": "code",
        "outputId": "daa46472-71c6-4158-ff48-667dd7f70112",
        "colab": {
          "base_uri": "https://localhost:8080/",
          "height": 67
        }
      },
      "source": [
        "# Converting text to lower case\n",
        "df_train1 = df_train1.apply(lambda x: x.astype(str).str.lower())\n",
        "df_train2 = df_train2.apply(lambda x: x.astype(str).str.lower())\n",
        "df_train3 = df_train3.apply(lambda x: x.astype(str).str.lower())\n",
        "\n",
        "print(df_train1.shape)\n",
        "print(df_train2.shape)\n",
        "print(df_train3.shape)"
      ],
      "execution_count": 41,
      "outputs": [
        {
          "output_type": "stream",
          "text": [
            "(20761, 5)\n",
            "(3988, 4)\n",
            "(49969, 6)\n"
          ],
          "name": "stdout"
        }
      ]
    },
    {
      "cell_type": "markdown",
      "metadata": {
        "id": "7EtuzRBC7yre",
        "colab_type": "text"
      },
      "source": [
        "**Removing Punctuations and HTML Tags**"
      ]
    },
    {
      "cell_type": "code",
      "metadata": {
        "id": "8R0qptU-e5Lv",
        "colab_type": "code",
        "colab": {}
      },
      "source": [
        "df_train1['text'] = df_train1['text'].str.replace('[^\\s\\w]','')\n",
        "df_train1['text'] = df_train1['text'].str.replace('<.*?>','')\n",
        "df_train1['title'] = df_train1['title'].str.replace('[^\\s\\w]','')\n",
        "df_train1['title'] = df_train1['title'].str.replace('<.*?>','')\n",
        "\n",
        "df_train2['Headline'] = df_train2['Headline'].str.replace('[^\\s\\w]','')\n",
        "df_train2['Headline'] = df_train2['Headline'].str.replace('<.*?>','')\n",
        "df_train2['Body'] = df_train2['Body'].str.replace('[^\\s\\w]','')\n",
        "df_train2['Body'] = df_train2['Body'].str.replace('<.*?>','')\n",
        "\n",
        "df_train3['title'] = df_train3['title'].str.replace('[^\\s\\w]','')\n",
        "df_train3['title'] = df_train3['title'].str.replace('<.*?>','')\n",
        "df_train3['body'] = df_train3['body'].str.replace('[^\\s\\w]','')\n",
        "df_train3['body'] = df_train3['body'].str.replace('<.*?>','')"
      ],
      "execution_count": 0,
      "outputs": []
    },
    {
      "cell_type": "markdown",
      "metadata": {
        "id": "05LXQPs577Cs",
        "colab_type": "text"
      },
      "source": [
        "**Tokenizing**"
      ]
    },
    {
      "cell_type": "code",
      "metadata": {
        "id": "m_0qL76h9ZcV",
        "colab_type": "code",
        "outputId": "7eec11d2-6214-4064-f556-73739cfc1fcf",
        "colab": {
          "base_uri": "https://localhost:8080/",
          "height": 50
        }
      },
      "source": [
        "nltk.download('punkt')\n",
        "\n",
        "df_train1['text_token'] = df_train1['text'].apply(lambda x: word_tokenize(x))\n",
        "df_train1['title_token'] = df_train1['title'].apply(lambda x: word_tokenize(x))\n",
        "\n",
        "df_train2['Headline_token'] = df_train2['Headline'].apply(lambda x: word_tokenize(x))\n",
        "df_train2['Body_token'] = df_train2['Body'].apply(lambda x: word_tokenize(x))\n",
        "\n",
        "df_train3['title_token'] = df_train3['title'].apply(lambda x: word_tokenize(x))\n",
        "df_train3['body_token'] = df_train3['body'].apply(lambda x: word_tokenize(x))"
      ],
      "execution_count": 43,
      "outputs": [
        {
          "output_type": "stream",
          "text": [
            "[nltk_data] Downloading package punkt to /root/nltk_data...\n",
            "[nltk_data]   Package punkt is already up-to-date!\n"
          ],
          "name": "stdout"
        }
      ]
    },
    {
      "cell_type": "code",
      "metadata": {
        "id": "lrMWgxh336Jt",
        "colab_type": "code",
        "outputId": "096d8eaf-c67c-48a5-99b7-3122f23705c6",
        "colab": {
          "base_uri": "https://localhost:8080/",
          "height": 570
        }
      },
      "source": [
        "df_train1"
      ],
      "execution_count": 44,
      "outputs": [
        {
          "output_type": "execute_result",
          "data": {
            "text/html": [
              "<div>\n",
              "<style scoped>\n",
              "    .dataframe tbody tr th:only-of-type {\n",
              "        vertical-align: middle;\n",
              "    }\n",
              "\n",
              "    .dataframe tbody tr th {\n",
              "        vertical-align: top;\n",
              "    }\n",
              "\n",
              "    .dataframe thead th {\n",
              "        text-align: right;\n",
              "    }\n",
              "</style>\n",
              "<table border=\"1\" class=\"dataframe\">\n",
              "  <thead>\n",
              "    <tr style=\"text-align: right;\">\n",
              "      <th></th>\n",
              "      <th>id</th>\n",
              "      <th>title</th>\n",
              "      <th>author</th>\n",
              "      <th>text</th>\n",
              "      <th>label</th>\n",
              "      <th>text_token</th>\n",
              "      <th>title_token</th>\n",
              "    </tr>\n",
              "  </thead>\n",
              "  <tbody>\n",
              "    <tr>\n",
              "      <th>0</th>\n",
              "      <td>0</td>\n",
              "      <td>house dem aide we didnt even see comeys letter...</td>\n",
              "      <td>darrell lucus</td>\n",
              "      <td>house dem aide we didnt even see comeys letter...</td>\n",
              "      <td>1</td>\n",
              "      <td>[house, dem, aide, we, didnt, even, see, comey...</td>\n",
              "      <td>[house, dem, aide, we, didnt, even, see, comey...</td>\n",
              "    </tr>\n",
              "    <tr>\n",
              "      <th>1</th>\n",
              "      <td>1</td>\n",
              "      <td>flynn hillary clinton big woman on campus  bre...</td>\n",
              "      <td>daniel j. flynn</td>\n",
              "      <td>ever get the feeling your life circles the rou...</td>\n",
              "      <td>0</td>\n",
              "      <td>[ever, get, the, feeling, your, life, circles,...</td>\n",
              "      <td>[flynn, hillary, clinton, big, woman, on, camp...</td>\n",
              "    </tr>\n",
              "    <tr>\n",
              "      <th>2</th>\n",
              "      <td>2</td>\n",
              "      <td>why the truth might get you fired</td>\n",
              "      <td>consortiumnews.com</td>\n",
              "      <td>why the truth might get you fired october 29 2...</td>\n",
              "      <td>1</td>\n",
              "      <td>[why, the, truth, might, get, you, fired, octo...</td>\n",
              "      <td>[why, the, truth, might, get, you, fired]</td>\n",
              "    </tr>\n",
              "    <tr>\n",
              "      <th>3</th>\n",
              "      <td>3</td>\n",
              "      <td>15 civilians killed in single us airstrike hav...</td>\n",
              "      <td>jessica purkiss</td>\n",
              "      <td>videos 15 civilians killed in single us airstr...</td>\n",
              "      <td>1</td>\n",
              "      <td>[videos, 15, civilians, killed, in, single, us...</td>\n",
              "      <td>[15, civilians, killed, in, single, us, airstr...</td>\n",
              "    </tr>\n",
              "    <tr>\n",
              "      <th>4</th>\n",
              "      <td>4</td>\n",
              "      <td>iranian woman jailed for fictional unpublished...</td>\n",
              "      <td>howard portnoy</td>\n",
              "      <td>print \\nan iranian woman has been sentenced to...</td>\n",
              "      <td>1</td>\n",
              "      <td>[print, an, iranian, woman, has, been, sentenc...</td>\n",
              "      <td>[iranian, woman, jailed, for, fictional, unpub...</td>\n",
              "    </tr>\n",
              "    <tr>\n",
              "      <th>...</th>\n",
              "      <td>...</td>\n",
              "      <td>...</td>\n",
              "      <td>...</td>\n",
              "      <td>...</td>\n",
              "      <td>...</td>\n",
              "      <td>...</td>\n",
              "      <td>...</td>\n",
              "    </tr>\n",
              "    <tr>\n",
              "      <th>20795</th>\n",
              "      <td>20795</td>\n",
              "      <td>rapper ti trump a poster child for white supre...</td>\n",
              "      <td>jerome hudson</td>\n",
              "      <td>rapper t i unloaded on black celebrities who m...</td>\n",
              "      <td>0</td>\n",
              "      <td>[rapper, t, i, unloaded, on, black, celebritie...</td>\n",
              "      <td>[rapper, ti, trump, a, poster, child, for, whi...</td>\n",
              "    </tr>\n",
              "    <tr>\n",
              "      <th>20796</th>\n",
              "      <td>20796</td>\n",
              "      <td>nfl playoffs schedule matchups and odds  the n...</td>\n",
              "      <td>benjamin hoffman</td>\n",
              "      <td>when the green bay packers lost to the washing...</td>\n",
              "      <td>0</td>\n",
              "      <td>[when, the, green, bay, packers, lost, to, the...</td>\n",
              "      <td>[nfl, playoffs, schedule, matchups, and, odds,...</td>\n",
              "    </tr>\n",
              "    <tr>\n",
              "      <th>20797</th>\n",
              "      <td>20797</td>\n",
              "      <td>macys is said to receive takeover approach by ...</td>\n",
              "      <td>michael j. de la merced and rachel abrams</td>\n",
              "      <td>the macys of today grew from the union of seve...</td>\n",
              "      <td>0</td>\n",
              "      <td>[the, macys, of, today, grew, from, the, union...</td>\n",
              "      <td>[macys, is, said, to, receive, takeover, appro...</td>\n",
              "    </tr>\n",
              "    <tr>\n",
              "      <th>20798</th>\n",
              "      <td>20798</td>\n",
              "      <td>nato russia to hold parallel exercises in balkans</td>\n",
              "      <td>alex ansary</td>\n",
              "      <td>nato russia to hold parallel exercises in balk...</td>\n",
              "      <td>1</td>\n",
              "      <td>[nato, russia, to, hold, parallel, exercises, ...</td>\n",
              "      <td>[nato, russia, to, hold, parallel, exercises, ...</td>\n",
              "    </tr>\n",
              "    <tr>\n",
              "      <th>20799</th>\n",
              "      <td>20799</td>\n",
              "      <td>what keeps the f35 alive</td>\n",
              "      <td>david swanson</td>\n",
              "      <td>david swanson is an author activist journali...</td>\n",
              "      <td>1</td>\n",
              "      <td>[david, swanson, is, an, author, activist, jou...</td>\n",
              "      <td>[what, keeps, the, f35, alive]</td>\n",
              "    </tr>\n",
              "  </tbody>\n",
              "</table>\n",
              "<p>20761 rows × 7 columns</p>\n",
              "</div>"
            ],
            "text/plain": [
              "          id  ...                                        title_token\n",
              "0          0  ...  [house, dem, aide, we, didnt, even, see, comey...\n",
              "1          1  ...  [flynn, hillary, clinton, big, woman, on, camp...\n",
              "2          2  ...          [why, the, truth, might, get, you, fired]\n",
              "3          3  ...  [15, civilians, killed, in, single, us, airstr...\n",
              "4          4  ...  [iranian, woman, jailed, for, fictional, unpub...\n",
              "...      ...  ...                                                ...\n",
              "20795  20795  ...  [rapper, ti, trump, a, poster, child, for, whi...\n",
              "20796  20796  ...  [nfl, playoffs, schedule, matchups, and, odds,...\n",
              "20797  20797  ...  [macys, is, said, to, receive, takeover, appro...\n",
              "20798  20798  ...  [nato, russia, to, hold, parallel, exercises, ...\n",
              "20799  20799  ...                     [what, keeps, the, f35, alive]\n",
              "\n",
              "[20761 rows x 7 columns]"
            ]
          },
          "metadata": {
            "tags": []
          },
          "execution_count": 44
        }
      ]
    },
    {
      "cell_type": "code",
      "metadata": {
        "id": "xh22DhNqzWRM",
        "colab_type": "code",
        "outputId": "936f35a5-8e40-4719-da65-8a40d880322b",
        "colab": {
          "base_uri": "https://localhost:8080/",
          "height": 570
        }
      },
      "source": [
        "df_train2"
      ],
      "execution_count": 45,
      "outputs": [
        {
          "output_type": "execute_result",
          "data": {
            "text/html": [
              "<div>\n",
              "<style scoped>\n",
              "    .dataframe tbody tr th:only-of-type {\n",
              "        vertical-align: middle;\n",
              "    }\n",
              "\n",
              "    .dataframe tbody tr th {\n",
              "        vertical-align: top;\n",
              "    }\n",
              "\n",
              "    .dataframe thead th {\n",
              "        text-align: right;\n",
              "    }\n",
              "</style>\n",
              "<table border=\"1\" class=\"dataframe\">\n",
              "  <thead>\n",
              "    <tr style=\"text-align: right;\">\n",
              "      <th></th>\n",
              "      <th>URLs</th>\n",
              "      <th>Headline</th>\n",
              "      <th>Body</th>\n",
              "      <th>Label</th>\n",
              "      <th>Headline_token</th>\n",
              "      <th>Body_token</th>\n",
              "    </tr>\n",
              "  </thead>\n",
              "  <tbody>\n",
              "    <tr>\n",
              "      <th>0</th>\n",
              "      <td>http://www.bbc.com/news/world-us-canada-414191...</td>\n",
              "      <td>four ways bob corker skewered donald trump</td>\n",
              "      <td>image copyright getty images\\non sunday mornin...</td>\n",
              "      <td>1</td>\n",
              "      <td>[four, ways, bob, corker, skewered, donald, tr...</td>\n",
              "      <td>[image, copyright, getty, images, on, sunday, ...</td>\n",
              "    </tr>\n",
              "    <tr>\n",
              "      <th>1</th>\n",
              "      <td>https://www.reuters.com/article/us-filmfestiva...</td>\n",
              "      <td>linklaters war veteran comedy speaks to modern...</td>\n",
              "      <td>london reuters  last flag flying a comedydrama...</td>\n",
              "      <td>1</td>\n",
              "      <td>[linklaters, war, veteran, comedy, speaks, to,...</td>\n",
              "      <td>[london, reuters, last, flag, flying, a, comed...</td>\n",
              "    </tr>\n",
              "    <tr>\n",
              "      <th>2</th>\n",
              "      <td>https://www.nytimes.com/2017/10/09/us/politics...</td>\n",
              "      <td>trumps fight with corker jeopardizes his legis...</td>\n",
              "      <td>the feud broke into public view last week when...</td>\n",
              "      <td>1</td>\n",
              "      <td>[trumps, fight, with, corker, jeopardizes, his...</td>\n",
              "      <td>[the, feud, broke, into, public, view, last, w...</td>\n",
              "    </tr>\n",
              "    <tr>\n",
              "      <th>3</th>\n",
              "      <td>https://www.reuters.com/article/us-mexico-oil-...</td>\n",
              "      <td>egypts cheiron wins tieup with pemex for mexic...</td>\n",
              "      <td>mexico city reuters  egypts cheiron holdings l...</td>\n",
              "      <td>1</td>\n",
              "      <td>[egypts, cheiron, wins, tieup, with, pemex, fo...</td>\n",
              "      <td>[mexico, city, reuters, egypts, cheiron, holdi...</td>\n",
              "    </tr>\n",
              "    <tr>\n",
              "      <th>4</th>\n",
              "      <td>http://www.cnn.com/videos/cnnmoney/2017/10/08/...</td>\n",
              "      <td>jason aldean opens snl with vegas tribute</td>\n",
              "      <td>country singer jason aldean who was performing...</td>\n",
              "      <td>1</td>\n",
              "      <td>[jason, aldean, opens, snl, with, vegas, tribute]</td>\n",
              "      <td>[country, singer, jason, aldean, who, was, per...</td>\n",
              "    </tr>\n",
              "    <tr>\n",
              "      <th>...</th>\n",
              "      <td>...</td>\n",
              "      <td>...</td>\n",
              "      <td>...</td>\n",
              "      <td>...</td>\n",
              "      <td>...</td>\n",
              "      <td>...</td>\n",
              "    </tr>\n",
              "    <tr>\n",
              "      <th>4003</th>\n",
              "      <td>http://beforeitsnews.com/u-s-politics/2017/10/...</td>\n",
              "      <td>cnn and globalist exposed  steve quayle and al...</td>\n",
              "      <td>vietnam is in great danger you must publish an...</td>\n",
              "      <td>0</td>\n",
              "      <td>[cnn, and, globalist, exposed, steve, quayle, ...</td>\n",
              "      <td>[vietnam, is, in, great, danger, you, must, pu...</td>\n",
              "    </tr>\n",
              "    <tr>\n",
              "      <th>4004</th>\n",
              "      <td>http://beforeitsnews.com/sports/2017/09/trends...</td>\n",
              "      <td>trends to watch</td>\n",
              "      <td>trends to watch\\n of readers think this story ...</td>\n",
              "      <td>0</td>\n",
              "      <td>[trends, to, watch]</td>\n",
              "      <td>[trends, to, watch, of, readers, think, this, ...</td>\n",
              "    </tr>\n",
              "    <tr>\n",
              "      <th>4005</th>\n",
              "      <td>http://beforeitsnews.com/u-s-politics/2017/10/...</td>\n",
              "      <td>trump jr is soon to give a 30minute speech for...</td>\n",
              "      <td>trump jr is soon to give a 30minute speech for...</td>\n",
              "      <td>0</td>\n",
              "      <td>[trump, jr, is, soon, to, give, a, 30minute, s...</td>\n",
              "      <td>[trump, jr, is, soon, to, give, a, 30minute, s...</td>\n",
              "    </tr>\n",
              "    <tr>\n",
              "      <th>4007</th>\n",
              "      <td>https://www.reuters.com/article/us-china-pharm...</td>\n",
              "      <td>china to accept overseas trial data in bid to ...</td>\n",
              "      <td>shanghai reuters  china said it plans to accep...</td>\n",
              "      <td>1</td>\n",
              "      <td>[china, to, accept, overseas, trial, data, in,...</td>\n",
              "      <td>[shanghai, reuters, china, said, it, plans, to...</td>\n",
              "    </tr>\n",
              "    <tr>\n",
              "      <th>4008</th>\n",
              "      <td>http://beforeitsnews.com/u-s-politics/2017/10/...</td>\n",
              "      <td>vice president mike pence leaves nfl game beca...</td>\n",
              "      <td>vice president mike pence leaves nfl game beca...</td>\n",
              "      <td>0</td>\n",
              "      <td>[vice, president, mike, pence, leaves, nfl, ga...</td>\n",
              "      <td>[vice, president, mike, pence, leaves, nfl, ga...</td>\n",
              "    </tr>\n",
              "  </tbody>\n",
              "</table>\n",
              "<p>3988 rows × 6 columns</p>\n",
              "</div>"
            ],
            "text/plain": [
              "                                                   URLs  ...                                         Body_token\n",
              "0     http://www.bbc.com/news/world-us-canada-414191...  ...  [image, copyright, getty, images, on, sunday, ...\n",
              "1     https://www.reuters.com/article/us-filmfestiva...  ...  [london, reuters, last, flag, flying, a, comed...\n",
              "2     https://www.nytimes.com/2017/10/09/us/politics...  ...  [the, feud, broke, into, public, view, last, w...\n",
              "3     https://www.reuters.com/article/us-mexico-oil-...  ...  [mexico, city, reuters, egypts, cheiron, holdi...\n",
              "4     http://www.cnn.com/videos/cnnmoney/2017/10/08/...  ...  [country, singer, jason, aldean, who, was, per...\n",
              "...                                                 ...  ...                                                ...\n",
              "4003  http://beforeitsnews.com/u-s-politics/2017/10/...  ...  [vietnam, is, in, great, danger, you, must, pu...\n",
              "4004  http://beforeitsnews.com/sports/2017/09/trends...  ...  [trends, to, watch, of, readers, think, this, ...\n",
              "4005  http://beforeitsnews.com/u-s-politics/2017/10/...  ...  [trump, jr, is, soon, to, give, a, 30minute, s...\n",
              "4007  https://www.reuters.com/article/us-china-pharm...  ...  [shanghai, reuters, china, said, it, plans, to...\n",
              "4008  http://beforeitsnews.com/u-s-politics/2017/10/...  ...  [vice, president, mike, pence, leaves, nfl, ga...\n",
              "\n",
              "[3988 rows x 6 columns]"
            ]
          },
          "metadata": {
            "tags": []
          },
          "execution_count": 45
        }
      ]
    },
    {
      "cell_type": "code",
      "metadata": {
        "id": "0ltEGnRbjiML",
        "colab_type": "code",
        "outputId": "c30c7ed0-c157-4bc7-eba7-a15a1dafcd1e",
        "colab": {
          "base_uri": "https://localhost:8080/",
          "height": 570
        }
      },
      "source": [
        "df_train3"
      ],
      "execution_count": 46,
      "outputs": [
        {
          "output_type": "execute_result",
          "data": {
            "text/html": [
              "<div>\n",
              "<style scoped>\n",
              "    .dataframe tbody tr th:only-of-type {\n",
              "        vertical-align: middle;\n",
              "    }\n",
              "\n",
              "    .dataframe tbody tr th {\n",
              "        vertical-align: top;\n",
              "    }\n",
              "\n",
              "    .dataframe thead th {\n",
              "        text-align: right;\n",
              "    }\n",
              "</style>\n",
              "<table border=\"1\" class=\"dataframe\">\n",
              "  <thead>\n",
              "    <tr style=\"text-align: right;\">\n",
              "      <th></th>\n",
              "      <th>id</th>\n",
              "      <th>date</th>\n",
              "      <th>url</th>\n",
              "      <th>title</th>\n",
              "      <th>body</th>\n",
              "      <th>label</th>\n",
              "      <th>title_token</th>\n",
              "      <th>body_token</th>\n",
              "    </tr>\n",
              "  </thead>\n",
              "  <tbody>\n",
              "    <tr>\n",
              "      <th>16349</th>\n",
              "      <td>16350</td>\n",
              "      <td>2020-03-03 11:20:31 utc</td>\n",
              "      <td>https://www.richmondandtwickenhamtimes.co.uk/n...</td>\n",
              "      <td>iran announces 77 deaths amid coronavirus outb...</td>\n",
              "      <td>virus outbreak in iran  virus outbreak mideast...</td>\n",
              "      <td>0</td>\n",
              "      <td>[iran, announces, 77, deaths, amid, coronaviru...</td>\n",
              "      <td>[virus, outbreak, in, iran, virus, outbreak, m...</td>\n",
              "    </tr>\n",
              "    <tr>\n",
              "      <th>12263</th>\n",
              "      <td>42264</td>\n",
              "      <td>2020-03-18 01:33:49 utc</td>\n",
              "      <td>https://www.washingtontimes.com/news/2020/mar/...</td>\n",
              "      <td>trump defends virus tweet as china kicks out m...</td>\n",
              "      <td>secretary of state mike pompeo this week also ...</td>\n",
              "      <td>1</td>\n",
              "      <td>[trump, defends, virus, tweet, as, china, kick...</td>\n",
              "      <td>[secretary, of, state, mike, pompeo, this, wee...</td>\n",
              "    </tr>\n",
              "    <tr>\n",
              "      <th>21457</th>\n",
              "      <td>21458</td>\n",
              "      <td>2020-03-23 11:17:44 utc</td>\n",
              "      <td>https://www.nbc15.com/content/news/pompeo-rush...</td>\n",
              "      <td>pompeo rushes to afghan capital to revive flag...</td>\n",
              "      <td>the urgency of pompeos surprise visit was high...</td>\n",
              "      <td>0</td>\n",
              "      <td>[pompeo, rushes, to, afghan, capital, to, revi...</td>\n",
              "      <td>[the, urgency, of, pompeos, surprise, visit, w...</td>\n",
              "    </tr>\n",
              "    <tr>\n",
              "      <th>6328</th>\n",
              "      <td>36329</td>\n",
              "      <td>2020-03-20 07:34:36 utc</td>\n",
              "      <td>https://www.europesun.com/news/264360610/analy...</td>\n",
              "      <td>analysts russia using virus crisis to sow disc...</td>\n",
              "      <td>washington  russia is very likely behind a dis...</td>\n",
              "      <td>1</td>\n",
              "      <td>[analysts, russia, using, virus, crisis, to, s...</td>\n",
              "      <td>[washington, russia, is, very, likely, behind,...</td>\n",
              "    </tr>\n",
              "    <tr>\n",
              "      <th>16230</th>\n",
              "      <td>16231</td>\n",
              "      <td>2020-03-12 11:49:48 utc</td>\n",
              "      <td>https://www.funds-europe.com/news/mixed-reacti...</td>\n",
              "      <td>mixed reactions as boe slashes rates in respon...</td>\n",
              "      <td>while financial conditions are not yet tight m...</td>\n",
              "      <td>0</td>\n",
              "      <td>[mixed, reactions, as, boe, slashes, rates, in...</td>\n",
              "      <td>[while, financial, conditions, are, not, yet, ...</td>\n",
              "    </tr>\n",
              "    <tr>\n",
              "      <th>...</th>\n",
              "      <td>...</td>\n",
              "      <td>...</td>\n",
              "      <td>...</td>\n",
              "      <td>...</td>\n",
              "      <td>...</td>\n",
              "      <td>...</td>\n",
              "      <td>...</td>\n",
              "      <td>...</td>\n",
              "    </tr>\n",
              "    <tr>\n",
              "      <th>18946</th>\n",
              "      <td>48947</td>\n",
              "      <td>2020-03-21 20:48:00 utc</td>\n",
              "      <td>https://www.manilatimes.net/2020/03/22/busines...</td>\n",
              "      <td>the power of the social media community  the m...</td>\n",
              "      <td>journalists from various news organizations me...</td>\n",
              "      <td>1</td>\n",
              "      <td>[the, power, of, the, social, media, community...</td>\n",
              "      <td>[journalists, from, various, news, organizatio...</td>\n",
              "    </tr>\n",
              "    <tr>\n",
              "      <th>7790</th>\n",
              "      <td>7791</td>\n",
              "      <td>2020-03-10 21:19:51 utc</td>\n",
              "      <td>https://www.thebigstation93blx.com/news/corona...</td>\n",
              "      <td>coronavirus has halted these concerts festival...</td>\n",
              "      <td>with all the concerns reedpop  which organizes...</td>\n",
              "      <td>0</td>\n",
              "      <td>[coronavirus, has, halted, these, concerts, fe...</td>\n",
              "      <td>[with, all, the, concerns, reedpop, which, org...</td>\n",
              "    </tr>\n",
              "    <tr>\n",
              "      <th>7053</th>\n",
              "      <td>7054</td>\n",
              "      <td>2020-03-23 04:32:55 utc</td>\n",
              "      <td>https://www.news-herald.com/entertainment/harv...</td>\n",
              "      <td>harvey weinstein reportedly tests positive for...</td>\n",
              "      <td>the disgraced movie mogul  who is days into hi...</td>\n",
              "      <td>0</td>\n",
              "      <td>[harvey, weinstein, reportedly, tests, positiv...</td>\n",
              "      <td>[the, disgraced, movie, mogul, who, is, days, ...</td>\n",
              "    </tr>\n",
              "    <tr>\n",
              "      <th>1292</th>\n",
              "      <td>31293</td>\n",
              "      <td>2020-03-17 22:18:46 utc</td>\n",
              "      <td>https://www.the-leader.com/zz/news/20200317/tr...</td>\n",
              "      <td>trump says hes looking at big bold economic st...</td>\n",
              "      <td>trump told reporters complaining in particular...</td>\n",
              "      <td>1</td>\n",
              "      <td>[trump, says, hes, looking, at, big, bold, eco...</td>\n",
              "      <td>[trump, told, reporters, complaining, in, part...</td>\n",
              "    </tr>\n",
              "    <tr>\n",
              "      <th>268</th>\n",
              "      <td>30269</td>\n",
              "      <td>2020-02-04 15:34:32 utc</td>\n",
              "      <td>https://nationalpost.com/news/majority-of-cana...</td>\n",
              "      <td>majority of canadians arent afraid of contract...</td>\n",
              "      <td>edmonton  nearly onefifth of canadians say the...</td>\n",
              "      <td>1</td>\n",
              "      <td>[majority, of, canadians, arent, afraid, of, c...</td>\n",
              "      <td>[edmonton, nearly, onefifth, of, canadians, sa...</td>\n",
              "    </tr>\n",
              "  </tbody>\n",
              "</table>\n",
              "<p>49969 rows × 8 columns</p>\n",
              "</div>"
            ],
            "text/plain": [
              "          id  ...                                         body_token\n",
              "16349  16350  ...  [virus, outbreak, in, iran, virus, outbreak, m...\n",
              "12263  42264  ...  [secretary, of, state, mike, pompeo, this, wee...\n",
              "21457  21458  ...  [the, urgency, of, pompeos, surprise, visit, w...\n",
              "6328   36329  ...  [washington, russia, is, very, likely, behind,...\n",
              "16230  16231  ...  [while, financial, conditions, are, not, yet, ...\n",
              "...      ...  ...                                                ...\n",
              "18946  48947  ...  [journalists, from, various, news, organizatio...\n",
              "7790    7791  ...  [with, all, the, concerns, reedpop, which, org...\n",
              "7053    7054  ...  [the, disgraced, movie, mogul, who, is, days, ...\n",
              "1292   31293  ...  [trump, told, reporters, complaining, in, part...\n",
              "268    30269  ...  [edmonton, nearly, onefifth, of, canadians, sa...\n",
              "\n",
              "[49969 rows x 8 columns]"
            ]
          },
          "metadata": {
            "tags": []
          },
          "execution_count": 46
        }
      ]
    },
    {
      "cell_type": "markdown",
      "metadata": {
        "id": "WbFK1MzK9GtK",
        "colab_type": "text"
      },
      "source": [
        "**Stemming**"
      ]
    },
    {
      "cell_type": "code",
      "metadata": {
        "id": "qvUTL84JgY9s",
        "colab_type": "code",
        "colab": {}
      },
      "source": [
        "ps = PorterStemmer() \n",
        "\n",
        "df_train1['text'] = df_train1['text_token'].apply(lambda x: list(ps.stem(i) for i in x))\n",
        "df_train1['title'] = df_train1['title_token'].apply(lambda x: list(ps.stem(i) for i in x))\n",
        "\n",
        "df_train2['Headline'] = df_train2['Headline_token'].apply(lambda x: list(ps.stem(i) for i in x))\n",
        "df_train2['Body'] = df_train2['Body_token'].apply(lambda x: list(ps.stem(i) for i in x))\n",
        "\n",
        "df_train3['title'] = df_train3['title_token'].apply(lambda x: list(ps.stem(i) for i in x))\n",
        "df_train3['body'] = df_train3['body_token'].apply(lambda x: list(ps.stem(i) for i in x))"
      ],
      "execution_count": 0,
      "outputs": []
    },
    {
      "cell_type": "markdown",
      "metadata": {
        "id": "11pq2kA-9Lbf",
        "colab_type": "text"
      },
      "source": [
        "**Removing STOP words and Rejoining**"
      ]
    },
    {
      "cell_type": "code",
      "metadata": {
        "id": "fyhnHsUspRbU",
        "colab_type": "code",
        "outputId": "4823475d-a5c9-45be-ee30-57b58efe3d91",
        "colab": {
          "base_uri": "https://localhost:8080/",
          "height": 50
        }
      },
      "source": [
        "# Removing the stop words and Rejoining\n",
        "nltk.download('stopwords')\n",
        "stops = set(stopwords.words(\"english\"))                  \n",
        "\n",
        "df_train1['title'] = df_train1['title'].apply(lambda x: ' '.join(list(i for i in x if i not in stops)))\n",
        "df_train1['text'] = df_train1['text'].apply(lambda x: ' '.join(list(i for i in x if i not in stops)))\n",
        "\n",
        "df_train2['Headline'] = df_train2['Headline'].apply(lambda x: ' '.join(list(i for i in x if i not in stops)))\n",
        "df_train2['Body'] = df_train2['Body'].apply(lambda x: ' '.join(list(i for i in x if i not in stops)))\n",
        "\n",
        "df_train3['title'] = df_train3['title'].apply(lambda x: ' '.join(list(i for i in x if i not in stops)))\n",
        "df_train3['body'] = df_train3['body'].apply(lambda x: ' '.join(list(i for i in x if i not in stops)))"
      ],
      "execution_count": 48,
      "outputs": [
        {
          "output_type": "stream",
          "text": [
            "[nltk_data] Downloading package stopwords to /root/nltk_data...\n",
            "[nltk_data]   Package stopwords is already up-to-date!\n"
          ],
          "name": "stdout"
        }
      ]
    },
    {
      "cell_type": "markdown",
      "metadata": {
        "id": "h6Tzu5Ud9QN1",
        "colab_type": "text"
      },
      "source": [
        "**Lemmatizing**"
      ]
    },
    {
      "cell_type": "code",
      "metadata": {
        "id": "RmRwevfG0aeh",
        "colab_type": "code",
        "outputId": "cb14dfca-2e91-44d9-a288-ac8601febc39",
        "colab": {
          "base_uri": "https://localhost:8080/",
          "height": 252
        }
      },
      "source": [
        "# Lammatizing\n",
        "nltk.download('wordnet')\n",
        "lamatizer = WordNetLemmatizer()\n",
        "\n",
        "df_train1['text'].apply(lambda x: lamatizer.lemmatize(x))\n",
        "df_train1['title'].apply(lambda x: lamatizer.lemmatize(x))\n",
        "\n",
        "df_train2['Headline'].apply(lambda x: lamatizer.lemmatize(x))\n",
        "df_train2['Body'].apply(lambda x: lamatizer.lemmatize(x))\n",
        "\n",
        "df_train3['title'].apply(lambda x: lamatizer.lemmatize(x))\n",
        "df_train3['body'].apply(lambda x: lamatizer.lemmatize(x))"
      ],
      "execution_count": 49,
      "outputs": [
        {
          "output_type": "stream",
          "text": [
            "[nltk_data] Downloading package wordnet to /root/nltk_data...\n",
            "[nltk_data]   Package wordnet is already up-to-date!\n"
          ],
          "name": "stdout"
        },
        {
          "output_type": "execute_result",
          "data": {
            "text/plain": [
              "16349    viru outbreak iran viru outbreak mideast iran ...\n",
              "12263    secretari state mike pompeo thi week also crit...\n",
              "21457    urgenc pompeo surpris visit wa highlight fact ...\n",
              "6328     washington russia veri like behind disinform c...\n",
              "16230    financi condit yet tight market liquid premium...\n",
              "                               ...                        \n",
              "18946    journalist variou news organ met onlin suggest...\n",
              "7790     concern reedpop organ emerald citi comic con h...\n",
              "7053     disgrac movi mogul day hi 23 year sentenc conv...\n",
              "1292     trump told report complain particular coverag ...\n",
              "268      edmonton nearli onefifth canadian say would mo...\n",
              "Name: body, Length: 49969, dtype: object"
            ]
          },
          "metadata": {
            "tags": []
          },
          "execution_count": 49
        }
      ]
    },
    {
      "cell_type": "markdown",
      "metadata": {
        "id": "5lx8vG8F9qjk",
        "colab_type": "text"
      },
      "source": [
        "**Train-Test Split**"
      ]
    },
    {
      "cell_type": "code",
      "metadata": {
        "id": "54qJmtLv8DEe",
        "colab_type": "code",
        "colab": {}
      },
      "source": [
        "## Code 1\n",
        "tokenizer = Tokenizer(num_words = 4500, filters='!\"#$%&()*+,-./:;<=>?@[\\\\]^_`{|}~\\t\\n', lower = True, split = ' ')\n",
        "tokenizer.fit_on_texts(texts = df_train1['text'])\n",
        "X1 = tokenizer.texts_to_sequences(texts = df_train1['text'])\n",
        "X2 = tokenizer.texts_to_sequences(texts = df_train2['Body'])\n",
        "X3 = tokenizer.texts_to_sequences(texts = df_train3['body'])\n",
        "word_index = tokenizer.word_index"
      ],
      "execution_count": 0,
      "outputs": []
    },
    {
      "cell_type": "code",
      "metadata": {
        "id": "Nivhc4NH8RSn",
        "colab_type": "code",
        "outputId": "3fc855db-9ea2-46d2-815f-ae7b7ffad79e",
        "colab": {
          "base_uri": "https://localhost:8080/",
          "height": 151
        }
      },
      "source": [
        "data1 = pad_sequences(sequences= X1, maxlen = 1000)\n",
        "labels1 = to_categorical(np.asarray(label), num_classes = 2)\n",
        "\n",
        "data2 = pad_sequences(sequences = X2, maxlen = 1000)\n",
        "labels2 = to_categorical(np.asarray(label1), num_classes = 2)\n",
        "\n",
        "data3 = pad_sequences(sequences = X3, maxlen = 1000)\n",
        "labels3 = to_categorical(np.asarray(label2), num_classes = 2)\n",
        "\n",
        "print('Length of data1 tensor:', data1.shape)\n",
        "print('Length of labels1 tensor:', labels1.shape)\n",
        "print('\\nLength of data2 tensor:', data2.shape)\n",
        "print('Length of labels2 tensor:', labels2.shape)\n",
        "print('\\nLength of data3 tensor:', data3.shape)\n",
        "print('Length of labels3 tensor:', labels3.shape)"
      ],
      "execution_count": 51,
      "outputs": [
        {
          "output_type": "stream",
          "text": [
            "Length of data1 tensor: (20761, 1000)\n",
            "Length of labels1 tensor: (20761, 2)\n",
            "\n",
            "Length of data2 tensor: (3988, 1000)\n",
            "Length of labels2 tensor: (3988, 2)\n",
            "\n",
            "Length of data3 tensor: (49969, 1000)\n",
            "Length of labels3 tensor: (49969, 2)\n"
          ],
          "name": "stdout"
        }
      ]
    },
    {
      "cell_type": "code",
      "metadata": {
        "id": "PnQ36dRH8kmJ",
        "colab_type": "code",
        "colab": {}
      },
      "source": [
        "## Code 1\n",
        "indices1 = np.arange(df_train1.shape[0])\n",
        "np.random.shuffle(indices1)\n",
        "data1 = data1[indices1]\n",
        "labels1 = labels1[indices1]\n",
        "\n",
        "indices2 = np.arange(df_train2.shape[0])\n",
        "np.random.shuffle(indices2)\n",
        "data2 = data2[indices2]\n",
        "labels2 = labels2[indices2]\n",
        "\n",
        "indices3 = np.arange(df_train3.shape[0])\n",
        "np.random.shuffle(indices3)\n",
        "data3 = data3[indices3]\n",
        "labels3 = labels3[indices3]\n",
        "\n",
        "x_train1, x_test1, y_train1, y_test1 = train_test_split(data1, labels1, test_size=0.25, random_state=42)\n",
        "x_test1, x_val1, y_test1, y_val1 = train_test_split(data1, labels1, test_size=0.50, random_state=42)\n",
        "\n",
        "x_train2, x_test2, y_train2, y_test2 = train_test_split(data2, labels2, test_size=0.25, random_state=42)\n",
        "x_test2, x_val2, y_test2, y_val2 = train_test_split(data2, labels2, test_size=0.50, random_state=42)\n",
        "\n",
        "x_train3, x_test3, y_train3, y_test3 = train_test_split(data3, labels3, test_size=0.25, random_state=42)\n",
        "x_test3, x_val3, y_test3, y_val3 = train_test_split(data3, labels3, test_size=0.50, random_state=42)"
      ],
      "execution_count": 0,
      "outputs": []
    },
    {
      "cell_type": "markdown",
      "metadata": {
        "id": "GILYyiKhofgL",
        "colab_type": "text"
      },
      "source": [
        "# Deep Learning Model"
      ]
    },
    {
      "cell_type": "markdown",
      "metadata": {
        "id": "69FSLfLMZHLF",
        "colab_type": "text"
      },
      "source": [
        "## **GloVe Embedding**"
      ]
    },
    {
      "cell_type": "code",
      "metadata": {
        "id": "2PFtHaZW9WhO",
        "colab_type": "code",
        "outputId": "34a2dde5-a7f9-4219-d540-79668f5b255d",
        "colab": {
          "base_uri": "https://localhost:8080/",
          "height": 34
        }
      },
      "source": [
        "#Using Pre-trained word embeddings\n",
        "MAX_SEQUENCE_LENGTH = 1000\n",
        "GLOVE_DIR = \"/content/gdrive/My Drive/Dataset - DL/\" \n",
        "embeddings_index = {}\n",
        "f = open(os.path.join(GLOVE_DIR, 'glove.6B.100d.txt'), encoding=\"utf8\")\n",
        "for line in f:\n",
        "    values = line.split()\n",
        "    word = values[0]\n",
        "    coefs = np.asarray(values[1:], dtype='float32')\n",
        "    embeddings_index[word] = coefs\n",
        "f.close()\n",
        "\n",
        "print('Total %s word vectors in Glove.' % len(embeddings_index))\n",
        "\n",
        "embedding_matrix = np.random.random((len(word_index) + 1, 100))\n",
        "for word, i in word_index.items():\n",
        "    embedding_vector = embeddings_index.get(word)\n",
        "    if embedding_vector is not None:\n",
        "        # words not found in embedding index will be all-zeros.\n",
        "        embedding_matrix[i] = embedding_vector\n",
        "        \n",
        "embedding_layer = Embedding(len(word_index) + 1, 100, weights=[embedding_matrix], input_length=1000)"
      ],
      "execution_count": 53,
      "outputs": [
        {
          "output_type": "stream",
          "text": [
            "Total 400000 word vectors in Glove.\n"
          ],
          "name": "stdout"
        }
      ]
    },
    {
      "cell_type": "markdown",
      "metadata": {
        "id": "m9MJNxMso2LC",
        "colab_type": "text"
      },
      "source": [
        "## **CNN Model**"
      ]
    },
    {
      "cell_type": "code",
      "metadata": {
        "id": "owPYXFN4EoFk",
        "colab_type": "code",
        "colab": {}
      },
      "source": [
        "### Model for 1st Dataset (test_data1)\n",
        "\n",
        "def CNN_model(n, x_train, y_train, x_val, y_val, x_test, y_test):\n",
        "    sequence_input = Input(shape=(MAX_SEQUENCE_LENGTH,), dtype='int32')\n",
        "    embedded_sequences = embedding_layer(sequence_input)\n",
        "    l_cov1= Conv1D(32, 5, activation='relu')(embedded_sequences)\n",
        "    l_pool1 = MaxPooling1D(5)(l_cov1)\n",
        "    l_cov2 = Conv1D(32, 5, activation='relu')(l_pool1)\n",
        "    l_pool2 = MaxPooling1D(5)(l_cov2)\n",
        "    l_cov3 = Conv1D(32, 5, activation='relu')(l_pool2)\n",
        "    l_pool3 = MaxPooling1D(35)(l_cov3)\n",
        "    l_flat = Flatten()(l_pool3)\n",
        "    l_dense = Dense(32, activation='relu')(l_flat)\n",
        "    preds = Dense(2, activation='softmax')(l_dense)\n",
        "\n",
        "    cnn_model = Model(sequence_input, preds)\n",
        "    cnn_model.compile(loss='categorical_crossentropy',optimizer='adadelta',metrics=['acc'])\n",
        "    print(\"Fitting the simple convolutional neural network model\")\n",
        "    cnn_model.summary()\n",
        "    history = cnn_model.fit(x_train, y_train, validation_data=(x_val, y_val),epochs=15, batch_size=32)\n",
        "    print(\"\\nMODEL TRAINING COMPLETED !\")\n",
        "\n",
        "    ### PREDICTION\n",
        "    y_preds = cnn_model.predict(x_test)\n",
        "    y_pred = np.round(y_preds)\n",
        "    cpred = float(sum(y_pred == y_test)[0])\n",
        "    cm = confusion_matrix(y_test.argmax(1), y_pred.argmax(1))\n",
        "    print(\"\\n-> Correct predictions:\", cpred)\n",
        "    print(\"\\n-> Total number of test examples:\", len(y_test))\n",
        "    print(\"\\n-> Accuracy of model: \", cpred/float(len(y_test)))\n",
        "    print('\\n-> Confusion Matrix for Dataset ',n,': \\n', cm)\n",
        "    \n",
        "    plt.matshow(cm, cmap=plt.cm.binary, interpolation='nearest')\n",
        "    plt.title('Confusion matrix - CNN Model 1')\n",
        "    plt.colorbar()\n",
        "    plt.ylabel('Expected label')\n",
        "    plt.xlabel('Predicted label')\n",
        "    plt.show()\n",
        "\n",
        "    return history"
      ],
      "execution_count": 0,
      "outputs": []
    },
    {
      "cell_type": "code",
      "metadata": {
        "id": "hVQkpHfAD8cA",
        "colab_type": "code",
        "outputId": "b6bd9130-5fdb-4aac-e5f7-ec527d18b85d",
        "colab": {
          "base_uri": "https://localhost:8080/",
          "height": 1000
        }
      },
      "source": [
        "print('CNN model for Dataset 1: ')\n",
        "print('='*25)\n",
        "history = CNN_model(1, x_train1, y_train1, x_val1, y_val1, x_test1, y_test1)\n",
        "print(' ')"
      ],
      "execution_count": 0,
      "outputs": [
        {
          "output_type": "stream",
          "text": [
            "CNN model for Dataset 1: \n",
            "=========================\n",
            "Fitting the simple convolutional neural network model\n",
            "Model: \"model_11\"\n",
            "_________________________________________________________________\n",
            "Layer (type)                 Output Shape              Param #   \n",
            "=================================================================\n",
            "input_11 (InputLayer)        (None, 1000)              0         \n",
            "_________________________________________________________________\n",
            "embedding_2 (Embedding)      (None, 1000, 100)         16926000  \n",
            "_________________________________________________________________\n",
            "conv1d_31 (Conv1D)           (None, 996, 32)           16032     \n",
            "_________________________________________________________________\n",
            "max_pooling1d_31 (MaxPooling (None, 199, 32)           0         \n",
            "_________________________________________________________________\n",
            "conv1d_32 (Conv1D)           (None, 195, 32)           5152      \n",
            "_________________________________________________________________\n",
            "max_pooling1d_32 (MaxPooling (None, 39, 32)            0         \n",
            "_________________________________________________________________\n",
            "conv1d_33 (Conv1D)           (None, 35, 32)            5152      \n",
            "_________________________________________________________________\n",
            "max_pooling1d_33 (MaxPooling (None, 1, 32)             0         \n",
            "_________________________________________________________________\n",
            "flatten_11 (Flatten)         (None, 32)                0         \n",
            "_________________________________________________________________\n",
            "dense_23 (Dense)             (None, 32)                1056      \n",
            "_________________________________________________________________\n",
            "dense_24 (Dense)             (None, 2)                 66        \n",
            "=================================================================\n",
            "Total params: 16,953,458\n",
            "Trainable params: 16,953,458\n",
            "Non-trainable params: 0\n",
            "_________________________________________________________________\n"
          ],
          "name": "stdout"
        },
        {
          "output_type": "stream",
          "text": [
            "/usr/local/lib/python3.6/dist-packages/tensorflow/python/framework/indexed_slices.py:434: UserWarning: Converting sparse IndexedSlices to a dense Tensor of unknown shape. This may consume a large amount of memory.\n",
            "  \"Converting sparse IndexedSlices to a dense Tensor of unknown shape. \"\n"
          ],
          "name": "stderr"
        },
        {
          "output_type": "stream",
          "text": [
            "Train on 15570 samples, validate on 10381 samples\n",
            "Epoch 1/15\n",
            "15570/15570 [==============================] - 183s 12ms/step - loss: 0.4436 - acc: 0.7797 - val_loss: 0.2155 - val_acc: 0.9182\n",
            "Epoch 2/15\n",
            "15570/15570 [==============================] - 183s 12ms/step - loss: 0.1787 - acc: 0.9304 - val_loss: 0.1725 - val_acc: 0.9316\n",
            "Epoch 3/15\n",
            "15570/15570 [==============================] - 182s 12ms/step - loss: 0.1171 - acc: 0.9561 - val_loss: 0.1018 - val_acc: 0.9632\n",
            "Epoch 4/15\n",
            "15570/15570 [==============================] - 182s 12ms/step - loss: 0.0811 - acc: 0.9719 - val_loss: 0.0987 - val_acc: 0.9685\n",
            "Epoch 5/15\n",
            "15570/15570 [==============================] - 181s 12ms/step - loss: 0.0551 - acc: 0.9814 - val_loss: 0.1232 - val_acc: 0.9584\n",
            "Epoch 6/15\n",
            "15570/15570 [==============================] - 182s 12ms/step - loss: 0.0332 - acc: 0.9897 - val_loss: 0.0994 - val_acc: 0.9705\n",
            "Epoch 7/15\n",
            "15570/15570 [==============================] - 178s 11ms/step - loss: 0.0207 - acc: 0.9951 - val_loss: 0.0899 - val_acc: 0.9777\n",
            "Epoch 8/15\n",
            "15570/15570 [==============================] - 178s 11ms/step - loss: 0.0116 - acc: 0.9977 - val_loss: 0.1024 - val_acc: 0.9777\n",
            "Epoch 9/15\n",
            "15570/15570 [==============================] - 180s 12ms/step - loss: 0.0074 - acc: 0.9986 - val_loss: 0.1224 - val_acc: 0.9761\n",
            "Epoch 10/15\n",
            "15570/15570 [==============================] - 179s 11ms/step - loss: 0.0077 - acc: 0.9982 - val_loss: 0.1121 - val_acc: 0.9781\n",
            "Epoch 11/15\n",
            "15570/15570 [==============================] - 178s 11ms/step - loss: 0.0037 - acc: 0.9994 - val_loss: 0.1270 - val_acc: 0.9780\n",
            "Epoch 12/15\n",
            "15570/15570 [==============================] - 177s 11ms/step - loss: 0.0024 - acc: 0.9997 - val_loss: 0.1458 - val_acc: 0.9771\n",
            "Epoch 13/15\n",
            "15570/15570 [==============================] - 179s 11ms/step - loss: 0.0021 - acc: 0.9997 - val_loss: 0.1451 - val_acc: 0.9773\n",
            "Epoch 14/15\n",
            "15570/15570 [==============================] - 178s 11ms/step - loss: 0.0015 - acc: 0.9996 - val_loss: 0.1641 - val_acc: 0.9780\n",
            "Epoch 15/15\n",
            "15570/15570 [==============================] - 180s 12ms/step - loss: 0.0011 - acc: 0.9998 - val_loss: 0.1722 - val_acc: 0.9773\n",
            "\n",
            "MODEL TRAINING COMPLETED !\n",
            "\n",
            "-> Correct predictions: 10379.0\n",
            "\n",
            "-> Total number of test examples: 10380\n",
            "\n",
            "-> Accuracy of model:  0.9999036608863199\n",
            "\n",
            "-> Confusion Matrix for Dataset  1 : \n",
            " [[5175    1]\n",
            " [   0 5204]]\n"
          ],
          "name": "stdout"
        },
        {
          "output_type": "display_data",
          "data": {
            "image/png": "[encoded data removed]",
            "text/plain": [
              "<Figure size 288x288 with 2 Axes>"
            ]
          },
          "metadata": {
            "tags": [],
            "needs_background": "light"
          }
        },
        {
          "output_type": "stream",
          "text": [
            " \n"
          ],
          "name": "stdout"
        }
      ]
    },
    {
      "cell_type": "code",
      "metadata": {
        "id": "VkLUWoDiy9le",
        "colab_type": "code",
        "outputId": "36bf140b-6c88-4408-dd1a-b599e3ca6e77",
        "colab": {
          "base_uri": "https://localhost:8080/",
          "height": 590
        }
      },
      "source": [
        "# list all data in history\n",
        "print(history.history.keys())\n",
        "\n",
        "# summarize history for accuracy\n",
        "plt.plot(history.history['acc'])\n",
        "plt.plot(history.history['val_acc'])\n",
        "plt.title('model accuracy')\n",
        "plt.ylabel('Accuracy')\n",
        "plt.xlabel('Epoch')\n",
        "plt.legend(['Train', 'Test'], loc='upper left')\n",
        "plt.show()\n",
        "\n",
        "# summarize history for loss\n",
        "plt.plot(history.history['loss'])\n",
        "plt.plot(history.history['val_loss'])\n",
        "plt.title('model loss')\n",
        "plt.ylabel('Loss')\n",
        "plt.xlabel('Epoch')\n",
        "plt.legend(['Train', 'Test'], loc='upper left')\n",
        "plt.show()"
      ],
      "execution_count": 0,
      "outputs": [
        {
          "output_type": "stream",
          "text": [
            "dict_keys(['val_loss', 'val_acc', 'loss', 'acc'])\n"
          ],
          "name": "stdout"
        },
        {
          "output_type": "display_data",
          "data": {
            "image/png": "[encoded data removed]",
            "text/plain": [
              "<Figure size 432x288 with 1 Axes>"
            ]
          },
          "metadata": {
            "tags": [],
            "needs_background": "light"
          }
        },
        {
          "output_type": "display_data",
          "data": {
            "image/png": "[encoded data removed]",
            "text/plain": [
              "<Figure size 432x288 with 1 Axes>"
            ]
          },
          "metadata": {
            "tags": [],
            "needs_background": "light"
          }
        }
      ]
    },
    {
      "cell_type": "code",
      "metadata": {
        "id": "Y5-1SQvQZV8a",
        "colab_type": "code",
        "outputId": "cee0fd35-f9f6-4f9d-a0bb-7bba245b3c86",
        "colab": {
          "base_uri": "https://localhost:8080/",
          "height": 1000
        }
      },
      "source": [
        "print('CNN model for Dataset 2: ')\n",
        "print('='*25)\n",
        "history = CNN_model(2, x_train2, y_train2, x_val2, y_val2, x_test2, y_test2)\n",
        "print(' ')"
      ],
      "execution_count": 0,
      "outputs": [
        {
          "output_type": "stream",
          "text": [
            "CNN model for Dataset 2: \n",
            "=========================\n",
            "Fitting the simple convolutional neural network model\n",
            "Model: \"model_12\"\n",
            "_________________________________________________________________\n",
            "Layer (type)                 Output Shape              Param #   \n",
            "=================================================================\n",
            "input_12 (InputLayer)        (None, 1000)              0         \n",
            "_________________________________________________________________\n",
            "embedding_2 (Embedding)      (None, 1000, 100)         16926000  \n",
            "_________________________________________________________________\n",
            "conv1d_34 (Conv1D)           (None, 996, 32)           16032     \n",
            "_________________________________________________________________\n",
            "max_pooling1d_34 (MaxPooling (None, 199, 32)           0         \n",
            "_________________________________________________________________\n",
            "conv1d_35 (Conv1D)           (None, 195, 32)           5152      \n",
            "_________________________________________________________________\n",
            "max_pooling1d_35 (MaxPooling (None, 39, 32)            0         \n",
            "_________________________________________________________________\n",
            "conv1d_36 (Conv1D)           (None, 35, 32)            5152      \n",
            "_________________________________________________________________\n",
            "max_pooling1d_36 (MaxPooling (None, 1, 32)             0         \n",
            "_________________________________________________________________\n",
            "flatten_12 (Flatten)         (None, 32)                0         \n",
            "_________________________________________________________________\n",
            "dense_25 (Dense)             (None, 32)                1056      \n",
            "_________________________________________________________________\n",
            "dense_26 (Dense)             (None, 2)                 66        \n",
            "=================================================================\n",
            "Total params: 16,953,458\n",
            "Trainable params: 16,953,458\n",
            "Non-trainable params: 0\n",
            "_________________________________________________________________\n"
          ],
          "name": "stdout"
        },
        {
          "output_type": "stream",
          "text": [
            "/usr/local/lib/python3.6/dist-packages/tensorflow/python/framework/indexed_slices.py:434: UserWarning: Converting sparse IndexedSlices to a dense Tensor of unknown shape. This may consume a large amount of memory.\n",
            "  \"Converting sparse IndexedSlices to a dense Tensor of unknown shape. \"\n"
          ],
          "name": "stderr"
        },
        {
          "output_type": "stream",
          "text": [
            "Train on 2991 samples, validate on 1994 samples\n",
            "Epoch 1/15\n",
            "2991/2991 [==============================] - 35s 12ms/step - loss: 0.6143 - acc: 0.6590 - val_loss: 0.4517 - val_acc: 0.8310\n",
            "Epoch 2/15\n",
            "2991/2991 [==============================] - 35s 12ms/step - loss: 0.3381 - acc: 0.8502 - val_loss: 0.4660 - val_acc: 0.7703\n",
            "Epoch 3/15\n",
            "2991/2991 [==============================] - 36s 12ms/step - loss: 0.1757 - acc: 0.9285 - val_loss: 0.1020 - val_acc: 0.9649\n",
            "Epoch 4/15\n",
            "2991/2991 [==============================] - 35s 12ms/step - loss: 0.0902 - acc: 0.9696 - val_loss: 0.0933 - val_acc: 0.9639\n",
            "Epoch 5/15\n",
            "2991/2991 [==============================] - 34s 11ms/step - loss: 0.0475 - acc: 0.9823 - val_loss: 0.0558 - val_acc: 0.9814\n",
            "Epoch 6/15\n",
            "2991/2991 [==============================] - 34s 12ms/step - loss: 0.0241 - acc: 0.9930 - val_loss: 0.1454 - val_acc: 0.9448\n",
            "Epoch 7/15\n",
            "2991/2991 [==============================] - 35s 12ms/step - loss: 0.0080 - acc: 0.9983 - val_loss: 0.0515 - val_acc: 0.9845\n",
            "Epoch 8/15\n",
            "2991/2991 [==============================] - 35s 12ms/step - loss: 0.0104 - acc: 0.9967 - val_loss: 0.0514 - val_acc: 0.9850\n",
            "Epoch 9/15\n",
            "2991/2991 [==============================] - 35s 12ms/step - loss: 0.0016 - acc: 1.0000 - val_loss: 0.0552 - val_acc: 0.9845\n",
            "Epoch 10/15\n",
            "2991/2991 [==============================] - 34s 12ms/step - loss: 0.0076 - acc: 0.9983 - val_loss: 0.0623 - val_acc: 0.9840\n",
            "Epoch 11/15\n",
            "2991/2991 [==============================] - 34s 11ms/step - loss: 5.6691e-04 - acc: 1.0000 - val_loss: 0.0616 - val_acc: 0.9840\n",
            "Epoch 12/15\n",
            "2991/2991 [==============================] - 34s 11ms/step - loss: 3.5815e-04 - acc: 1.0000 - val_loss: 0.0659 - val_acc: 0.9865\n",
            "Epoch 13/15\n",
            "2991/2991 [==============================] - 34s 11ms/step - loss: 1.3872e-04 - acc: 1.0000 - val_loss: 0.0697 - val_acc: 0.9835\n",
            "Epoch 14/15\n",
            "2991/2991 [==============================] - 36s 12ms/step - loss: 7.4791e-05 - acc: 1.0000 - val_loss: 0.0729 - val_acc: 0.9835\n",
            "Epoch 15/15\n",
            "2991/2991 [==============================] - 34s 11ms/step - loss: 4.2566e-05 - acc: 1.0000 - val_loss: 0.0743 - val_acc: 0.9850\n",
            "\n",
            "MODEL TRAINING COMPLETED !\n",
            "\n",
            "-> Correct predictions: 1994.0\n",
            "\n",
            "-> Total number of test examples: 1994\n",
            "\n",
            "-> Accuracy of model:  1.0\n",
            "\n",
            "-> Confusion Matrix for Dataset  2 : \n",
            " [[1074    0]\n",
            " [   0  920]]\n"
          ],
          "name": "stdout"
        },
        {
          "output_type": "display_data",
          "data": {
            "image/png": "[encoded data removed]",
            "text/plain": [
              "<Figure size 288x288 with 2 Axes>"
            ]
          },
          "metadata": {
            "tags": [],
            "needs_background": "light"
          }
        }
      ]
    },
    {
      "cell_type": "code",
      "metadata": {
        "id": "75lcBv-y1qC9",
        "colab_type": "code",
        "outputId": "8106a7a7-9492-4f59-e786-352d40412cc7",
        "colab": {
          "base_uri": "https://localhost:8080/",
          "height": 590
        }
      },
      "source": [
        "# list all data in history\n",
        "print(history.history.keys())\n",
        "\n",
        "# summarize history for accuracy\n",
        "plt.plot(history.history['acc'])\n",
        "plt.plot(history.history['val_acc'])\n",
        "plt.title('model accuracy')\n",
        "plt.ylabel('Accuracy')\n",
        "plt.xlabel('Epoch')\n",
        "plt.legend(['Train', 'Test'], loc='upper left')\n",
        "plt.show()\n",
        "\n",
        "# summarize history for loss\n",
        "plt.plot(history.history['loss'])\n",
        "plt.plot(history.history['val_loss'])\n",
        "plt.title('model loss')\n",
        "plt.ylabel('Loss')\n",
        "plt.xlabel('Epoch')\n",
        "plt.legend(['Train', 'Test'], loc='upper left')\n",
        "plt.show()"
      ],
      "execution_count": 0,
      "outputs": [
        {
          "output_type": "stream",
          "text": [
            "dict_keys(['val_loss', 'val_acc', 'loss', 'acc'])\n"
          ],
          "name": "stdout"
        },
        {
          "output_type": "display_data",
          "data": {
            "image/png": "[encoded data removed]",
            "text/plain": [
              "<Figure size 432x288 with 1 Axes>"
            ]
          },
          "metadata": {
            "tags": [],
            "needs_background": "light"
          }
        },
        {
          "output_type": "display_data",
          "data": {
            "image/png": "[encoded data removed]",
            "text/plain": [
              "<Figure size 432x288 with 1 Axes>"
            ]
          },
          "metadata": {
            "tags": [],
            "needs_background": "light"
          }
        }
      ]
    },
    {
      "cell_type": "markdown",
      "metadata": {
        "id": "qLxNGnzxLd37",
        "colab_type": "text"
      },
      "source": [
        "## **DEEP CNN**"
      ]
    },
    {
      "cell_type": "code",
      "metadata": {
        "id": "NhQqOxQFcd35",
        "colab_type": "code",
        "colab": {}
      },
      "source": [
        "### Model for 1st data set (test_data1)\n",
        "def DCNN_model(n, x_train, y_train, x_val, y_val, x_test, y_test):\n",
        "    sequence_input = Input(shape=(MAX_SEQUENCE_LENGTH,), dtype='int32')\n",
        "    embedded_sequences = embedding_layer(sequence_input)\n",
        "    l_cov1= Conv1D(32, 5, activation='relu')(embedded_sequences)\n",
        "    l_pool1 = MaxPooling1D(5)(l_cov1)\n",
        "    l_cov2 = Conv1D(32, 5, activation='relu')(l_pool1)\n",
        "    l_pool2 = MaxPooling1D(5)(l_cov2)\n",
        "    l_cov3 = Conv1D(32, 5, activation='relu')(l_pool2)\n",
        "    l_pool3 = MaxPooling1D(35)(l_cov3)\n",
        "    l_flat = Flatten()(l_pool3)\n",
        "    l_dense = Dense(32, activation='relu')(l_flat)\n",
        "    l_dense1 = Dense(32, activation='relu')(l_dense)\n",
        "    l_dense2 = Dense(32, activation='relu')(l_dense1)\n",
        "    preds = Dense(2, activation='softmax')(l_dense2)\n",
        "\n",
        "    dcnn_model = Model(sequence_input, preds)\n",
        "    dcnn_model.compile(loss='categorical_crossentropy',optimizer='adadelta',metrics=['acc'])\n",
        "    print(\"Fitting the simple convolutional neural network model\")\n",
        "    dcnn_model.summary()\n",
        "    history = dcnn_model.fit(x_train, y_train, validation_data=(x_val, y_val),epochs=15, batch_size=32)\n",
        "    print('\\nModel Training Completed !')\n",
        "\n",
        "    ### PREDICTING \n",
        "    y_preds = dcnn_model.predict(x_test)\n",
        "    y_pred = np.round(y_preds)\n",
        "    cpred = float(sum(y_pred == y_test)[0])\n",
        "    cm = confusion_matrix(y_test.argmax(1), y_pred.argmax(1))\n",
        "    print(\"\\n-> Correct predictions:\", cpred)\n",
        "    print(\"\\n-> Total number of test examples:\", len(y_test))\n",
        "    print(\"\\n-> Accuracy of model: \", cpred/float(len(y_test)))\n",
        "    print(\"\\n-> Confusion matrix for Dataset\",n,\": \", cm)\n",
        "\n",
        "    plt.matshow(cm, cmap=plt.cm.binary, interpolation='nearest')\n",
        "    plt.title('Confusion matrix - CNN Model 1')\n",
        "    plt.colorbar()\n",
        "    plt.ylabel('Expected label')\n",
        "    plt.xlabel('Predicted label')\n",
        "    plt.show()\n",
        "    return history\n"
      ],
      "execution_count": 0,
      "outputs": []
    },
    {
      "cell_type": "code",
      "metadata": {
        "id": "MD2FXwBdZ3Wb",
        "colab_type": "code",
        "outputId": "d3743dd4-eaa3-4197-c08a-840cd549e4ed",
        "colab": {
          "base_uri": "https://localhost:8080/",
          "height": 1000
        }
      },
      "source": [
        "print('DCNN model for Dataset 1: ')\n",
        "print('='*25)\n",
        "history = DCNN_model(1, x_train1, y_train1, x_val1, y_val1, x_test1, y_test1)\n",
        "print(' ')"
      ],
      "execution_count": 0,
      "outputs": [
        {
          "output_type": "stream",
          "text": [
            "DCNN model for Dataset 1: \n",
            "=========================\n",
            "Fitting the simple convolutional neural network model\n",
            "Model: \"model_8\"\n",
            "_________________________________________________________________\n",
            "Layer (type)                 Output Shape              Param #   \n",
            "=================================================================\n",
            "input_22 (InputLayer)        (None, 1000)              0         \n",
            "_________________________________________________________________\n",
            "embedding_1 (Embedding)      (None, 1000, 100)         16926000  \n",
            "_________________________________________________________________\n",
            "conv1d_22 (Conv1D)           (None, 996, 32)           16032     \n",
            "_________________________________________________________________\n",
            "max_pooling1d_22 (MaxPooling (None, 199, 32)           0         \n",
            "_________________________________________________________________\n",
            "conv1d_23 (Conv1D)           (None, 195, 32)           5152      \n",
            "_________________________________________________________________\n",
            "max_pooling1d_23 (MaxPooling (None, 39, 32)            0         \n",
            "_________________________________________________________________\n",
            "conv1d_24 (Conv1D)           (None, 35, 32)            5152      \n",
            "_________________________________________________________________\n",
            "max_pooling1d_24 (MaxPooling (None, 1, 32)             0         \n",
            "_________________________________________________________________\n",
            "flatten_22 (Flatten)         (None, 32)                0         \n",
            "_________________________________________________________________\n",
            "dense_15 (Dense)             (None, 32)                1056      \n",
            "_________________________________________________________________\n",
            "dense_16 (Dense)             (None, 32)                1056      \n",
            "_________________________________________________________________\n",
            "dense_17 (Dense)             (None, 32)                1056      \n",
            "_________________________________________________________________\n",
            "dense_18 (Dense)             (None, 2)                 66        \n",
            "=================================================================\n",
            "Total params: 16,955,570\n",
            "Trainable params: 16,955,570\n",
            "Non-trainable params: 0\n",
            "_________________________________________________________________\n"
          ],
          "name": "stdout"
        },
        {
          "output_type": "stream",
          "text": [
            "/usr/local/lib/python3.6/dist-packages/tensorflow/python/framework/indexed_slices.py:434: UserWarning: Converting sparse IndexedSlices to a dense Tensor of unknown shape. This may consume a large amount of memory.\n",
            "  \"Converting sparse IndexedSlices to a dense Tensor of unknown shape. \"\n"
          ],
          "name": "stderr"
        },
        {
          "output_type": "stream",
          "text": [
            "Train on 15570 samples, validate on 10381 samples\n",
            "Epoch 1/15\n",
            "15570/15570 [==============================] - 183s 12ms/step - loss: 0.3698 - acc: 0.8210 - val_loss: 0.1984 - val_acc: 0.9248\n",
            "Epoch 2/15\n",
            "15570/15570 [==============================] - 184s 12ms/step - loss: 0.1412 - acc: 0.9453 - val_loss: 0.1376 - val_acc: 0.9455\n",
            "Epoch 3/15\n",
            "15570/15570 [==============================] - 182s 12ms/step - loss: 0.0996 - acc: 0.9640 - val_loss: 0.0911 - val_acc: 0.9672\n",
            "Epoch 4/15\n",
            "15570/15570 [==============================] - 183s 12ms/step - loss: 0.0705 - acc: 0.9762 - val_loss: 0.0923 - val_acc: 0.9643\n",
            "Epoch 5/15\n",
            "15570/15570 [==============================] - 184s 12ms/step - loss: 0.0456 - acc: 0.9854 - val_loss: 0.0809 - val_acc: 0.9749\n",
            "Epoch 6/15\n",
            "15570/15570 [==============================] - 183s 12ms/step - loss: 0.0313 - acc: 0.9904 - val_loss: 0.0836 - val_acc: 0.9775\n",
            "Epoch 7/15\n",
            "15570/15570 [==============================] - 182s 12ms/step - loss: 0.0173 - acc: 0.9954 - val_loss: 0.0912 - val_acc: 0.9775\n",
            "Epoch 8/15\n",
            "15570/15570 [==============================] - 182s 12ms/step - loss: 0.0088 - acc: 0.9980 - val_loss: 0.1277 - val_acc: 0.9773\n",
            "Epoch 9/15\n",
            "15570/15570 [==============================] - 185s 12ms/step - loss: 0.0078 - acc: 0.9982 - val_loss: 0.1217 - val_acc: 0.9790\n",
            "Epoch 10/15\n",
            "15570/15570 [==============================] - 182s 12ms/step - loss: 0.0051 - acc: 0.9986 - val_loss: 0.1212 - val_acc: 0.9778\n",
            "Epoch 11/15\n",
            "15570/15570 [==============================] - 183s 12ms/step - loss: 0.0024 - acc: 0.9994 - val_loss: 0.1532 - val_acc: 0.9766\n",
            "Epoch 12/15\n",
            "15570/15570 [==============================] - 185s 12ms/step - loss: 0.0029 - acc: 0.9991 - val_loss: 0.1445 - val_acc: 0.9778\n",
            "Epoch 13/15\n",
            "15570/15570 [==============================] - 182s 12ms/step - loss: 0.0019 - acc: 0.9995 - val_loss: 0.1658 - val_acc: 0.9772\n",
            "Epoch 14/15\n",
            "15570/15570 [==============================] - 182s 12ms/step - loss: 0.0016 - acc: 0.9997 - val_loss: 0.1918 - val_acc: 0.9787\n",
            "Epoch 15/15\n",
            "15570/15570 [==============================] - 185s 12ms/step - loss: 0.0017 - acc: 0.9996 - val_loss: 0.1948 - val_acc: 0.9785\n",
            "\n",
            "Model Training Completed !\n",
            "\n",
            "-> Correct predictions: 10379.0\n",
            "\n",
            "-> Total number of test examples: 10380\n",
            "\n",
            "-> Accuracy of model:  0.9999036608863199\n",
            "\n",
            "-> Confusion matrix for Dataset 1 :  [[5209    1]\n",
            " [   0 5170]]\n"
          ],
          "name": "stdout"
        },
        {
          "output_type": "display_data",
          "data": {
            "image/png": "[encoded data removed]",
            "text/plain": [
              "<Figure size 288x288 with 2 Axes>"
            ]
          },
          "metadata": {
            "tags": [],
            "needs_background": "light"
          }
        },
        {
          "output_type": "stream",
          "text": [
            " \n"
          ],
          "name": "stdout"
        }
      ]
    },
    {
      "cell_type": "code",
      "metadata": {
        "id": "rfbQIY5y1vOy",
        "colab_type": "code",
        "outputId": "5ea3dd9d-c0dd-4be1-d6ce-791b3f22493b",
        "colab": {
          "base_uri": "https://localhost:8080/",
          "height": 590
        }
      },
      "source": [
        "# list all data in history\n",
        "print(history.history.keys())\n",
        "\n",
        "# summarize history for accuracy\n",
        "plt.plot(history.history['acc'])\n",
        "plt.plot(history.history['val_acc'])\n",
        "plt.title('model accuracy')\n",
        "plt.ylabel('Accuracy')\n",
        "plt.xlabel('Epoch')\n",
        "plt.legend(['Train', 'Test'], loc='upper left')\n",
        "plt.show()\n",
        "\n",
        "# summarize history for loss\n",
        "plt.plot(history.history['loss'])\n",
        "plt.plot(history.history['val_loss'])\n",
        "plt.title('model loss')\n",
        "plt.ylabel('Loss')\n",
        "plt.xlabel('Epoch')\n",
        "plt.legend(['Train', 'Test'], loc='upper left')\n",
        "plt.show()"
      ],
      "execution_count": 0,
      "outputs": [
        {
          "output_type": "stream",
          "text": [
            "dict_keys(['val_loss', 'val_acc', 'loss', 'acc'])\n"
          ],
          "name": "stdout"
        },
        {
          "output_type": "display_data",
          "data": {
            "image/png": "[encoded data removed]",
            "text/plain": [
              "<Figure size 432x288 with 1 Axes>"
            ]
          },
          "metadata": {
            "tags": [],
            "needs_background": "light"
          }
        },
        {
          "output_type": "display_data",
          "data": {
            "image/png": "[encoded data removed]",
            "text/plain": [
              "<Figure size 432x288 with 1 Axes>"
            ]
          },
          "metadata": {
            "tags": [],
            "needs_background": "light"
          }
        }
      ]
    },
    {
      "cell_type": "code",
      "metadata": {
        "id": "Q97NvbgmH0LA",
        "colab_type": "code",
        "outputId": "d27b59b7-cbdd-4f2a-d48c-a6b8186e885a",
        "colab": {
          "base_uri": "https://localhost:8080/",
          "height": 1000
        }
      },
      "source": [
        "print('DCNN model for Dataset 2: ')\n",
        "print('='*25)\n",
        "history = DCNN_model(2, x_train2, y_train2, x_val2, y_val2, x_test2, y_test2)\n",
        "print(' ')"
      ],
      "execution_count": 0,
      "outputs": [
        {
          "output_type": "stream",
          "text": [
            "DCNN model for Dataset 2: \n",
            "=========================\n",
            "Fitting the simple convolutional neural network model\n",
            "Model: \"model_22\"\n",
            "_________________________________________________________________\n",
            "Layer (type)                 Output Shape              Param #   \n",
            "=================================================================\n",
            "input_22 (InputLayer)        (None, 1000)              0         \n",
            "_________________________________________________________________\n",
            "embedding_2 (Embedding)      (None, 1000, 100)         16926000  \n",
            "_________________________________________________________________\n",
            "conv1d_64 (Conv1D)           (None, 996, 32)           16032     \n",
            "_________________________________________________________________\n",
            "max_pooling1d_64 (MaxPooling (None, 199, 32)           0         \n",
            "_________________________________________________________________\n",
            "conv1d_65 (Conv1D)           (None, 195, 32)           5152      \n",
            "_________________________________________________________________\n",
            "max_pooling1d_65 (MaxPooling (None, 39, 32)            0         \n",
            "_________________________________________________________________\n",
            "conv1d_66 (Conv1D)           (None, 35, 32)            5152      \n",
            "_________________________________________________________________\n",
            "max_pooling1d_66 (MaxPooling (None, 1, 32)             0         \n",
            "_________________________________________________________________\n",
            "flatten_22 (Flatten)         (None, 32)                0         \n",
            "_________________________________________________________________\n",
            "dense_71 (Dense)             (None, 32)                1056      \n",
            "_________________________________________________________________\n",
            "dense_72 (Dense)             (None, 32)                1056      \n",
            "_________________________________________________________________\n",
            "dense_73 (Dense)             (None, 32)                1056      \n",
            "_________________________________________________________________\n",
            "dense_74 (Dense)             (None, 2)                 66        \n",
            "=================================================================\n",
            "Total params: 16,955,570\n",
            "Trainable params: 16,955,570\n",
            "Non-trainable params: 0\n",
            "_________________________________________________________________\n"
          ],
          "name": "stdout"
        },
        {
          "output_type": "stream",
          "text": [
            "/usr/local/lib/python3.6/dist-packages/tensorflow/python/framework/indexed_slices.py:434: UserWarning: Converting sparse IndexedSlices to a dense Tensor of unknown shape. This may consume a large amount of memory.\n",
            "  \"Converting sparse IndexedSlices to a dense Tensor of unknown shape. \"\n"
          ],
          "name": "stderr"
        },
        {
          "output_type": "stream",
          "text": [
            "Train on 2991 samples, validate on 1994 samples\n",
            "Epoch 1/15\n",
            "2991/2991 [==============================] - 36s 12ms/step - loss: 0.6224 - acc: 0.6339 - val_loss: 0.5888 - val_acc: 0.6921\n",
            "Epoch 2/15\n",
            "2991/2991 [==============================] - 35s 12ms/step - loss: 0.2725 - acc: 0.8877 - val_loss: 0.1271 - val_acc: 0.9498\n",
            "Epoch 3/15\n",
            "2991/2991 [==============================] - 36s 12ms/step - loss: 0.1386 - acc: 0.9442 - val_loss: 0.0778 - val_acc: 0.9724\n",
            "Epoch 4/15\n",
            "2991/2991 [==============================] - 35s 12ms/step - loss: 0.0732 - acc: 0.9719 - val_loss: 0.0608 - val_acc: 0.9779\n",
            "Epoch 5/15\n",
            "2991/2991 [==============================] - 35s 12ms/step - loss: 0.0273 - acc: 0.9916 - val_loss: 0.0600 - val_acc: 0.9809\n",
            "Epoch 6/15\n",
            "2991/2991 [==============================] - 35s 12ms/step - loss: 0.0066 - acc: 0.9990 - val_loss: 0.0621 - val_acc: 0.9829\n",
            "Epoch 7/15\n",
            "2991/2991 [==============================] - 35s 12ms/step - loss: 0.0031 - acc: 0.9993 - val_loss: 0.1072 - val_acc: 0.9744\n",
            "Epoch 8/15\n",
            "2991/2991 [==============================] - 35s 12ms/step - loss: 6.3220e-04 - acc: 1.0000 - val_loss: 0.0761 - val_acc: 0.9835\n",
            "Epoch 9/15\n",
            "2991/2991 [==============================] - 35s 12ms/step - loss: 2.2157e-04 - acc: 1.0000 - val_loss: 0.0833 - val_acc: 0.9835\n",
            "Epoch 10/15\n",
            "2991/2991 [==============================] - 35s 12ms/step - loss: 6.3591e-05 - acc: 1.0000 - val_loss: 0.0906 - val_acc: 0.9845\n",
            "Epoch 11/15\n",
            "2991/2991 [==============================] - 35s 12ms/step - loss: 2.6883e-05 - acc: 1.0000 - val_loss: 0.0960 - val_acc: 0.9845\n",
            "Epoch 12/15\n",
            "2991/2991 [==============================] - 35s 12ms/step - loss: 1.7660e-05 - acc: 1.0000 - val_loss: 0.0991 - val_acc: 0.9845\n",
            "Epoch 13/15\n",
            "2991/2991 [==============================] - 35s 12ms/step - loss: 1.2471e-05 - acc: 1.0000 - val_loss: 0.1015 - val_acc: 0.9845\n",
            "Epoch 14/15\n",
            "2991/2991 [==============================] - 35s 12ms/step - loss: 9.6343e-06 - acc: 1.0000 - val_loss: 0.1035 - val_acc: 0.9845\n",
            "Epoch 15/15\n",
            "2991/2991 [==============================] - 35s 12ms/step - loss: 7.8652e-06 - acc: 1.0000 - val_loss: 0.1052 - val_acc: 0.9845\n",
            "\n",
            "Model Training Completed !\n",
            "\n",
            "-> Correct predictions: 1994.0\n",
            "\n",
            "-> Total number of test examples: 1994\n",
            "\n",
            "-> Accuracy of model:  1.0\n",
            "\n",
            "-> Confusion matrix for Dataset 2 :  [[1074    0]\n",
            " [   0  920]]\n"
          ],
          "name": "stdout"
        },
        {
          "output_type": "display_data",
          "data": {
            "image/png": "[encoded data removed]",
            "text/plain": [
              "<Figure size 288x288 with 2 Axes>"
            ]
          },
          "metadata": {
            "tags": [],
            "needs_background": "light"
          }
        },
        {
          "output_type": "stream",
          "text": [
            " \n"
          ],
          "name": "stdout"
        }
      ]
    },
    {
      "cell_type": "code",
      "metadata": {
        "id": "f73lzcX811XQ",
        "colab_type": "code",
        "outputId": "ac27b725-f5b4-4534-eeae-d909a62cab92",
        "colab": {
          "base_uri": "https://localhost:8080/",
          "height": 590
        }
      },
      "source": [
        "# list all data in history\n",
        "print(history.history.keys())\n",
        "\n",
        "# summarize history for accuracy\n",
        "plt.plot(history.history['acc'])\n",
        "plt.plot(history.history['val_acc'])\n",
        "plt.title('model accuracy')\n",
        "plt.ylabel('Accuracy')\n",
        "plt.xlabel('Epoch')\n",
        "plt.legend(['Train', 'Test'], loc='upper left')\n",
        "plt.show()\n",
        "\n",
        "# summarize history for loss\n",
        "plt.plot(history.history['loss'])\n",
        "plt.plot(history.history['val_loss'])\n",
        "plt.title('model loss')\n",
        "plt.ylabel('Loss')\n",
        "plt.xlabel('Epoch')\n",
        "plt.legend(['Train', 'Test'], loc='upper left')\n",
        "plt.show()"
      ],
      "execution_count": 0,
      "outputs": [
        {
          "output_type": "stream",
          "text": [
            "dict_keys(['val_loss', 'val_acc', 'loss', 'acc'])\n"
          ],
          "name": "stdout"
        },
        {
          "output_type": "display_data",
          "data": {
            "image/png": "[encoded data removed]",
            "text/plain": [
              "<Figure size 432x288 with 1 Axes>"
            ]
          },
          "metadata": {
            "tags": [],
            "needs_background": "light"
          }
        },
        {
          "output_type": "display_data",
          "data": {
            "image/png": "[encoded data removed]",
            "text/plain": [
              "<Figure size 432x288 with 1 Axes>"
            ]
          },
          "metadata": {
            "tags": [],
            "needs_background": "light"
          }
        }
      ]
    },
    {
      "cell_type": "code",
      "metadata": {
        "id": "8SnsldI_pvvU",
        "colab_type": "code",
        "outputId": "32b20fb7-847e-4e88-eea4-eb84e30c2c99",
        "colab": {
          "base_uri": "https://localhost:8080/",
          "height": 1000
        }
      },
      "source": [
        "print('DCNN model for Dataset 3: ')\n",
        "print('='*25)\n",
        "history = DCNN_model(3, x_train3, y_train3, x_val3, y_val3, x_test3, y_test3)\n",
        "print(' ')"
      ],
      "execution_count": 31,
      "outputs": [
        {
          "output_type": "stream",
          "text": [
            "DCNN model for Dataset 3: \n",
            "=========================\n",
            "Fitting the simple convolutional neural network model\n",
            "Model: \"model_1\"\n",
            "_________________________________________________________________\n",
            "Layer (type)                 Output Shape              Param #   \n",
            "=================================================================\n",
            "input_1 (InputLayer)         (None, 1000)              0         \n",
            "_________________________________________________________________\n",
            "embedding_1 (Embedding)      (None, 1000, 100)         16926000  \n",
            "_________________________________________________________________\n",
            "conv1d_1 (Conv1D)            (None, 996, 32)           16032     \n",
            "_________________________________________________________________\n",
            "max_pooling1d_1 (MaxPooling1 (None, 199, 32)           0         \n",
            "_________________________________________________________________\n",
            "conv1d_2 (Conv1D)            (None, 195, 32)           5152      \n",
            "_________________________________________________________________\n",
            "max_pooling1d_2 (MaxPooling1 (None, 39, 32)            0         \n",
            "_________________________________________________________________\n",
            "conv1d_3 (Conv1D)            (None, 35, 32)            5152      \n",
            "_________________________________________________________________\n",
            "max_pooling1d_3 (MaxPooling1 (None, 1, 32)             0         \n",
            "_________________________________________________________________\n",
            "flatten_1 (Flatten)          (None, 32)                0         \n",
            "_________________________________________________________________\n",
            "dense_1 (Dense)              (None, 32)                1056      \n",
            "_________________________________________________________________\n",
            "dense_2 (Dense)              (None, 32)                1056      \n",
            "_________________________________________________________________\n",
            "dense_3 (Dense)              (None, 32)                1056      \n",
            "_________________________________________________________________\n",
            "dense_4 (Dense)              (None, 2)                 66        \n",
            "=================================================================\n",
            "Total params: 16,955,570\n",
            "Trainable params: 16,955,570\n",
            "Non-trainable params: 0\n",
            "_________________________________________________________________\n"
          ],
          "name": "stdout"
        },
        {
          "output_type": "stream",
          "text": [
            "/usr/local/lib/python3.6/dist-packages/tensorflow/python/framework/indexed_slices.py:434: UserWarning: Converting sparse IndexedSlices to a dense Tensor of unknown shape. This may consume a large amount of memory.\n",
            "  \"Converting sparse IndexedSlices to a dense Tensor of unknown shape. \"\n"
          ],
          "name": "stderr"
        },
        {
          "output_type": "stream",
          "text": [
            "Train on 37476 samples, validate on 24985 samples\n",
            "Epoch 1/15\n",
            "37476/37476 [==============================] - 461s 12ms/step - loss: 0.3252 - acc: 0.8569 - val_loss: 0.2044 - val_acc: 0.9269\n",
            "Epoch 2/15\n",
            "37476/37476 [==============================] - 459s 12ms/step - loss: 0.1764 - acc: 0.9396 - val_loss: 0.1753 - val_acc: 0.9396\n",
            "Epoch 3/15\n",
            "37476/37476 [==============================] - 459s 12ms/step - loss: 0.1384 - acc: 0.9545 - val_loss: 0.1405 - val_acc: 0.9557\n",
            "Epoch 4/15\n",
            "37476/37476 [==============================] - 456s 12ms/step - loss: 0.1085 - acc: 0.9652 - val_loss: 0.1303 - val_acc: 0.9604\n",
            "Epoch 5/15\n",
            "37476/37476 [==============================] - 459s 12ms/step - loss: 0.0829 - acc: 0.9750 - val_loss: 0.2214 - val_acc: 0.9417\n",
            "Epoch 6/15\n",
            "37476/37476 [==============================] - 454s 12ms/step - loss: 0.0640 - acc: 0.9821 - val_loss: 0.1581 - val_acc: 0.9515\n",
            "Epoch 7/15\n",
            "37476/37476 [==============================] - 454s 12ms/step - loss: 0.0498 - acc: 0.9867 - val_loss: 0.1540 - val_acc: 0.9628\n",
            "Epoch 8/15\n",
            "37476/37476 [==============================] - 454s 12ms/step - loss: 0.0423 - acc: 0.9885 - val_loss: 0.1801 - val_acc: 0.9663\n",
            "Epoch 9/15\n",
            "37476/37476 [==============================] - 456s 12ms/step - loss: 0.0376 - acc: 0.9897 - val_loss: 0.1941 - val_acc: 0.9666\n",
            "Epoch 10/15\n",
            "37476/37476 [==============================] - 452s 12ms/step - loss: 0.0321 - acc: 0.9907 - val_loss: 0.2054 - val_acc: 0.9617\n",
            "Epoch 11/15\n",
            "37476/37476 [==============================] - 452s 12ms/step - loss: 0.0301 - acc: 0.9906 - val_loss: 0.1825 - val_acc: 0.9673\n",
            "Epoch 12/15\n",
            "37476/37476 [==============================] - 453s 12ms/step - loss: 0.0281 - acc: 0.9912 - val_loss: 0.1952 - val_acc: 0.9673\n",
            "Epoch 13/15\n",
            "37476/37476 [==============================] - 453s 12ms/step - loss: 0.0247 - acc: 0.9925 - val_loss: 0.2276 - val_acc: 0.9687\n",
            "Epoch 14/15\n",
            "37476/37476 [==============================] - 454s 12ms/step - loss: 0.0229 - acc: 0.9927 - val_loss: 0.2974 - val_acc: 0.9653\n",
            "Epoch 15/15\n",
            "37476/37476 [==============================] - 453s 12ms/step - loss: 0.0195 - acc: 0.9938 - val_loss: 0.2659 - val_acc: 0.9683\n",
            "\n",
            "Model Training Completed !\n",
            "\n",
            "-> Correct predictions: 24870.0\n",
            "\n",
            "-> Total number of test examples: 24984\n",
            "\n",
            "-> Accuracy of model:  0.9954370797310279\n",
            "\n",
            "-> Confusion matrix for Dataset 3 :  [[14821    96]\n",
            " [   18 10049]]\n"
          ],
          "name": "stdout"
        },
        {
          "output_type": "display_data",
          "data": {
            "image/png": "[encoded data removed]",
            "text/plain": [
              "<Figure size 288x288 with 2 Axes>"
            ]
          },
          "metadata": {
            "tags": [],
            "needs_background": "light"
          }
        },
        {
          "output_type": "stream",
          "text": [
            " \n"
          ],
          "name": "stdout"
        }
      ]
    },
    {
      "cell_type": "code",
      "metadata": {
        "id": "aqk5B8-Lqi9i",
        "colab_type": "code",
        "outputId": "fadfefb1-88ef-4f45-8d79-6ab677b8219e",
        "colab": {
          "base_uri": "https://localhost:8080/",
          "height": 590
        }
      },
      "source": [
        "# list all data in history\n",
        "print(history.history.keys())\n",
        "\n",
        "# summarize history for accuracy\n",
        "plt.plot(history.history['acc'])\n",
        "plt.plot(history.history['val_acc'])\n",
        "plt.title('model accuracy')\n",
        "plt.ylabel('Accuracy')\n",
        "plt.xlabel('Epoch')\n",
        "plt.legend(['Train', 'Test'], loc='upper left')\n",
        "plt.show()\n",
        "\n",
        "# summarize history for loss\n",
        "plt.plot(history.history['loss'])\n",
        "plt.plot(history.history['val_loss'])\n",
        "plt.title('model loss')\n",
        "plt.ylabel('Loss')\n",
        "plt.xlabel('Epoch')\n",
        "plt.legend(['Train', 'Test'], loc='upper left')\n",
        "plt.show()"
      ],
      "execution_count": 32,
      "outputs": [
        {
          "output_type": "stream",
          "text": [
            "dict_keys(['val_loss', 'val_acc', 'loss', 'acc'])\n"
          ],
          "name": "stdout"
        },
        {
          "output_type": "display_data",
          "data": {
            "image/png": "[encoded data removed]",
            "text/plain": [
              "<Figure size 432x288 with 1 Axes>"
            ]
          },
          "metadata": {
            "tags": [],
            "needs_background": "light"
          }
        },
        {
          "output_type": "display_data",
          "data": {
            "image/png": "[encoded data removed]",
            "text/plain": [
              "<Figure size 432x288 with 1 Axes>"
            ]
          },
          "metadata": {
            "tags": [],
            "needs_background": "light"
          }
        }
      ]
    },
    {
      "cell_type": "markdown",
      "metadata": {
        "id": "sfGz4-rE0UwT",
        "colab_type": "text"
      },
      "source": [
        "## **LSTM Model**\n"
      ]
    },
    {
      "cell_type": "code",
      "metadata": {
        "id": "mlZS1tWy0UIT",
        "colab_type": "code",
        "colab": {}
      },
      "source": [
        "### Model for 1st data set (test_data1)\n",
        "def LSTM_model(n, x_train, y_train, x_val, y_val, x_test, y_test):\n",
        "    lstm_model = Sequential()\n",
        "    lstm_model.add(Embedding(len(word_index) + 1, 100, weights = [embedding_matrix], input_length = MAX_SEQUENCE_LENGTH, trainable = False))\n",
        "    lstm_model.add(LSTM(128))\n",
        "    lstm_model.add(Dense(128, activation = 'relu'))\n",
        "    lstm_model.add(Dense(64, activation = 'relu'))\n",
        "    lstm_model.add(Dense(32, activation = 'relu'))\n",
        "    lstm_model.add(Dense(2, activation = 'softmax'))\n",
        "    lstm_model.compile(optimizer = 'adam', loss = 'binary_crossentropy', metrics = ['accuracy'])\n",
        "    lstm_model.summary()\n",
        "    history = lstm_model.fit(x_train, y_train, validation_data = (x_val, y_val), epochs = 15, batch_size = 128)\n",
        "    print('\\nModel Training Complete !')\n",
        "    \n",
        "    ### PREDICTION\n",
        "    y_preds = lstm_model.predict(x_test)\n",
        "    y_pred = np.round(y_preds)\n",
        "    cpred = float(sum(y_pred == y_test)[0])\n",
        "    cm = confusion_matrix(y_test.argmax(1), y_pred.argmax(1))\n",
        "    print(\"\\n-> Correct predictions:\", cpred)\n",
        "    print(\"\\n-> Total number of test examples:\", len(y_test))\n",
        "    print(\"\\n-> Accuracy of model: \", cpred/float(len(y_test)))\n",
        "    print(\"\\n-> Confusion for Dataset\",n,\": \", cm)\n",
        "\n",
        "    plt.matshow(cm, cmap=plt.cm.binary, interpolation='nearest')\n",
        "    plt.title('Confusion matrix - CNN Model 1')\n",
        "    plt.colorbar()\n",
        "    plt.ylabel('Expected label')\n",
        "    plt.xlabel('Predicted label')\n",
        "    plt.show()\n",
        "    return history"
      ],
      "execution_count": 0,
      "outputs": []
    },
    {
      "cell_type": "code",
      "metadata": {
        "id": "05RmUM_zfpfo",
        "colab_type": "code",
        "outputId": "a417bdec-13ee-452d-b8de-17c3ad4957de",
        "colab": {
          "base_uri": "https://localhost:8080/",
          "height": 1000
        }
      },
      "source": [
        "print('LSTM model for Dataset 1: ')\n",
        "print('='*25)\n",
        "history = LSTM_model(1, x_train1, y_train1, x_val1, y_val1, x_test1, y_test1)\n",
        "print(' ')"
      ],
      "execution_count": 0,
      "outputs": [
        {
          "output_type": "stream",
          "text": [
            "LSTM model for Dataset 1: \n",
            "=========================\n",
            "Model: \"sequential_3\"\n",
            "_________________________________________________________________\n",
            "Layer (type)                 Output Shape              Param #   \n",
            "=================================================================\n",
            "embedding_5 (Embedding)      (None, 1000, 100)         16926000  \n",
            "_________________________________________________________________\n",
            "lstm_3 (LSTM)                (None, 128)               117248    \n",
            "_________________________________________________________________\n",
            "dense_75 (Dense)             (None, 128)               16512     \n",
            "_________________________________________________________________\n",
            "dense_76 (Dense)             (None, 64)                8256      \n",
            "_________________________________________________________________\n",
            "dense_77 (Dense)             (None, 32)                2080      \n",
            "_________________________________________________________________\n",
            "dense_78 (Dense)             (None, 2)                 66        \n",
            "=================================================================\n",
            "Total params: 17,070,162\n",
            "Trainable params: 144,162\n",
            "Non-trainable params: 16,926,000\n",
            "_________________________________________________________________\n",
            "Train on 15570 samples, validate on 10381 samples\n",
            "Epoch 1/15\n",
            "15570/15570 [==============================] - 532s 34ms/step - loss: 0.4669 - accuracy: 0.7726 - val_loss: 0.3371 - val_accuracy: 0.8540\n",
            "Epoch 2/15\n",
            "15570/15570 [==============================] - 531s 34ms/step - loss: 0.3229 - accuracy: 0.8660 - val_loss: 0.2916 - val_accuracy: 0.8753\n",
            "Epoch 3/15\n",
            "15570/15570 [==============================] - 532s 34ms/step - loss: 0.2728 - accuracy: 0.8845 - val_loss: 0.2697 - val_accuracy: 0.8906\n",
            "Epoch 4/15\n",
            "15570/15570 [==============================] - 533s 34ms/step - loss: 0.2335 - accuracy: 0.9029 - val_loss: 0.2219 - val_accuracy: 0.9094\n",
            "Epoch 5/15\n",
            "15570/15570 [==============================] - 531s 34ms/step - loss: 0.2012 - accuracy: 0.9142 - val_loss: 0.2222 - val_accuracy: 0.9024\n",
            "Epoch 6/15\n",
            "15570/15570 [==============================] - 530s 34ms/step - loss: 0.1844 - accuracy: 0.9230 - val_loss: 0.4441 - val_accuracy: 0.7908\n",
            "Epoch 7/15\n",
            "15570/15570 [==============================] - 531s 34ms/step - loss: 0.3240 - accuracy: 0.8596 - val_loss: 0.2520 - val_accuracy: 0.8843\n",
            "Epoch 8/15\n",
            "15570/15570 [==============================] - 531s 34ms/step - loss: 0.1947 - accuracy: 0.9190 - val_loss: 0.2317 - val_accuracy: 0.9087\n",
            "Epoch 9/15\n",
            "15570/15570 [==============================] - 532s 34ms/step - loss: 0.1534 - accuracy: 0.9358 - val_loss: 0.1617 - val_accuracy: 0.9375\n",
            "Epoch 10/15\n",
            "15570/15570 [==============================] - 532s 34ms/step - loss: 0.1536 - accuracy: 0.9379 - val_loss: 0.1504 - val_accuracy: 0.9441\n",
            "Epoch 11/15\n",
            "15570/15570 [==============================] - 531s 34ms/step - loss: 0.1046 - accuracy: 0.9602 - val_loss: 0.1400 - val_accuracy: 0.9443\n",
            "Epoch 12/15\n",
            "15570/15570 [==============================] - 532s 34ms/step - loss: 0.0949 - accuracy: 0.9640 - val_loss: 0.1404 - val_accuracy: 0.9532\n",
            "Epoch 13/15\n",
            "15570/15570 [==============================] - 532s 34ms/step - loss: 0.0775 - accuracy: 0.9720 - val_loss: 0.1646 - val_accuracy: 0.9427\n",
            "Epoch 14/15\n",
            "15570/15570 [==============================] - 529s 34ms/step - loss: 0.0798 - accuracy: 0.9703 - val_loss: 0.1290 - val_accuracy: 0.9532\n",
            "Epoch 15/15\n",
            "15570/15570 [==============================] - 531s 34ms/step - loss: 0.0558 - accuracy: 0.9795 - val_loss: 0.1299 - val_accuracy: 0.9584\n",
            "\n",
            "Model Training Complete !\n",
            "\n",
            "-> Correct predictions: 10234.0\n",
            "\n",
            "-> Total number of test examples: 10380\n",
            "\n",
            "-> Accuracy of model:  0.9859344894026975\n",
            "\n",
            "-> Confusion for Dataset 1 :  [[5135   41]\n",
            " [ 105 5099]]\n"
          ],
          "name": "stdout"
        },
        {
          "output_type": "display_data",
          "data": {
            "image/png": "[encoded data removed]",
            "text/plain": [
              "<Figure size 288x288 with 2 Axes>"
            ]
          },
          "metadata": {
            "tags": [],
            "needs_background": "light"
          }
        },
        {
          "output_type": "stream",
          "text": [
            " \n"
          ],
          "name": "stdout"
        }
      ]
    },
    {
      "cell_type": "code",
      "metadata": {
        "id": "xtKoT-gW13aS",
        "colab_type": "code",
        "outputId": "6063b693-25e0-4d4e-ac75-175070878060",
        "colab": {
          "base_uri": "https://localhost:8080/",
          "height": 590
        }
      },
      "source": [
        "# list all data in history\n",
        "print(history.history.keys())\n",
        "\n",
        "# summarize history for accuracy\n",
        "plt.plot(history.history['accuracy'])\n",
        "plt.plot(history.history['val_accuracy'])\n",
        "plt.title('model accuracy')\n",
        "plt.ylabel('Accuracy')\n",
        "plt.xlabel('Epoch')\n",
        "plt.legend(['Train', 'Test'], loc='upper left')\n",
        "plt.show()\n",
        "\n",
        "# summarize history for loss\n",
        "plt.plot(history.history['loss'])\n",
        "plt.plot(history.history['val_loss'])\n",
        "plt.title('model loss')\n",
        "plt.ylabel('Loss')\n",
        "plt.xlabel('Epoch')\n",
        "plt.legend(['Train', 'Test'], loc='upper left')\n",
        "plt.show()"
      ],
      "execution_count": 0,
      "outputs": [
        {
          "output_type": "stream",
          "text": [
            "dict_keys(['val_loss', 'val_accuracy', 'loss', 'accuracy'])\n"
          ],
          "name": "stdout"
        },
        {
          "output_type": "display_data",
          "data": {
            "image/png": "[encoded data removed]",
            "text/plain": [
              "<Figure size 432x288 with 1 Axes>"
            ]
          },
          "metadata": {
            "tags": [],
            "needs_background": "light"
          }
        },
        {
          "output_type": "display_data",
          "data": {
            "image/png": "[encoded data removed]",
            "text/plain": [
              "<Figure size 432x288 with 1 Axes>"
            ]
          },
          "metadata": {
            "tags": [],
            "needs_background": "light"
          }
        }
      ]
    },
    {
      "cell_type": "code",
      "metadata": {
        "id": "GT3nH8yDH7aJ",
        "colab_type": "code",
        "outputId": "a56b966d-caad-4f98-c68c-e6923fd4d9eb",
        "colab": {
          "base_uri": "https://localhost:8080/",
          "height": 1000
        }
      },
      "source": [
        "print('LSTM model for Dataset 2: ')\n",
        "print('='*25)\n",
        "history = LSTM_model(2, x_train2, y_train2, x_val2, y_val2, x_test2, y_test2)\n",
        "print(' ')"
      ],
      "execution_count": 0,
      "outputs": [
        {
          "output_type": "stream",
          "text": [
            "LSTM model for Dataset 2: \n",
            "=========================\n",
            "Model: \"sequential_4\"\n",
            "_________________________________________________________________\n",
            "Layer (type)                 Output Shape              Param #   \n",
            "=================================================================\n",
            "embedding_6 (Embedding)      (None, 1000, 100)         16926000  \n",
            "_________________________________________________________________\n",
            "lstm_4 (LSTM)                (None, 128)               117248    \n",
            "_________________________________________________________________\n",
            "dense_79 (Dense)             (None, 128)               16512     \n",
            "_________________________________________________________________\n",
            "dense_80 (Dense)             (None, 64)                8256      \n",
            "_________________________________________________________________\n",
            "dense_81 (Dense)             (None, 32)                2080      \n",
            "_________________________________________________________________\n",
            "dense_82 (Dense)             (None, 2)                 66        \n",
            "=================================================================\n",
            "Total params: 17,070,162\n",
            "Trainable params: 144,162\n",
            "Non-trainable params: 16,926,000\n",
            "_________________________________________________________________\n",
            "Train on 2991 samples, validate on 1994 samples\n",
            "Epoch 1/15\n",
            "2991/2991 [==============================] - 103s 35ms/step - loss: 0.4519 - accuracy: 0.7987 - val_loss: 0.2301 - val_accuracy: 0.9052\n",
            "Epoch 2/15\n",
            "2991/2991 [==============================] - 102s 34ms/step - loss: 0.2173 - accuracy: 0.9144 - val_loss: 0.1610 - val_accuracy: 0.9348\n",
            "Epoch 3/15\n",
            "2991/2991 [==============================] - 102s 34ms/step - loss: 0.1667 - accuracy: 0.9388 - val_loss: 0.1378 - val_accuracy: 0.9544\n",
            "Epoch 4/15\n",
            "2991/2991 [==============================] - 102s 34ms/step - loss: 0.1263 - accuracy: 0.9522 - val_loss: 0.0919 - val_accuracy: 0.9654\n",
            "Epoch 5/15\n",
            "2991/2991 [==============================] - 102s 34ms/step - loss: 0.1052 - accuracy: 0.9585 - val_loss: 0.0915 - val_accuracy: 0.9669\n",
            "Epoch 6/15\n",
            "2991/2991 [==============================] - 102s 34ms/step - loss: 0.0720 - accuracy: 0.9753 - val_loss: 0.0720 - val_accuracy: 0.9759\n",
            "Epoch 7/15\n",
            "2991/2991 [==============================] - 103s 34ms/step - loss: 0.0519 - accuracy: 0.9829 - val_loss: 0.0863 - val_accuracy: 0.9724\n",
            "Epoch 8/15\n",
            "2991/2991 [==============================] - 102s 34ms/step - loss: 0.0329 - accuracy: 0.9920 - val_loss: 0.0520 - val_accuracy: 0.9850\n",
            "Epoch 9/15\n",
            "2991/2991 [==============================] - 102s 34ms/step - loss: 0.0175 - accuracy: 0.9970 - val_loss: 0.0586 - val_accuracy: 0.9794\n",
            "Epoch 10/15\n",
            "2991/2991 [==============================] - 102s 34ms/step - loss: 0.0105 - accuracy: 0.9980 - val_loss: 0.0809 - val_accuracy: 0.9784\n",
            "Epoch 11/15\n",
            "2991/2991 [==============================] - 102s 34ms/step - loss: 0.0070 - accuracy: 0.9990 - val_loss: 0.0516 - val_accuracy: 0.9870\n",
            "Epoch 12/15\n",
            "2991/2991 [==============================] - 102s 34ms/step - loss: 0.0045 - accuracy: 0.9990 - val_loss: 0.0589 - val_accuracy: 0.9885\n",
            "Epoch 13/15\n",
            "2991/2991 [==============================] - 103s 34ms/step - loss: 0.0154 - accuracy: 0.9947 - val_loss: 0.0543 - val_accuracy: 0.9850\n",
            "Epoch 14/15\n",
            "2991/2991 [==============================] - 102s 34ms/step - loss: 0.0301 - accuracy: 0.9906 - val_loss: 0.0880 - val_accuracy: 0.9714\n",
            "Epoch 15/15\n",
            "2991/2991 [==============================] - 102s 34ms/step - loss: 0.0232 - accuracy: 0.9923 - val_loss: 0.0505 - val_accuracy: 0.9865\n",
            "\n",
            "Model Training Complete !\n",
            "\n",
            "-> Correct predictions: 1986.0\n",
            "\n",
            "-> Total number of test examples: 1994\n",
            "\n",
            "-> Accuracy of model:  0.995987963891675\n",
            "\n",
            "-> Confusion for Dataset 2 :  [[1068    6]\n",
            " [   2  918]]\n"
          ],
          "name": "stdout"
        },
        {
          "output_type": "display_data",
          "data": {
            "image/png": "[encoded data removed]",
            "text/plain": [
              "<Figure size 288x288 with 2 Axes>"
            ]
          },
          "metadata": {
            "tags": [],
            "needs_background": "light"
          }
        },
        {
          "output_type": "stream",
          "text": [
            " \n"
          ],
          "name": "stdout"
        }
      ]
    },
    {
      "cell_type": "code",
      "metadata": {
        "id": "p7Uq5AKV14af",
        "colab_type": "code",
        "outputId": "7cdc3622-e9c5-4d39-906d-d32d39405f09",
        "colab": {
          "base_uri": "https://localhost:8080/",
          "height": 590
        }
      },
      "source": [
        "# list all data in history\n",
        "print(history.history.keys())\n",
        "\n",
        "# summarize history for accuracy\n",
        "plt.plot(history.history['accuracy'])\n",
        "plt.plot(history.history['val_accuracy'])\n",
        "plt.title('model accuracy')\n",
        "plt.ylabel('Accuracy')\n",
        "plt.xlabel('Epoch')\n",
        "plt.legend(['Train', 'Test'], loc='upper left')\n",
        "plt.show()\n",
        "\n",
        "# summarize history for loss\n",
        "plt.plot(history.history['loss'])\n",
        "plt.plot(history.history['val_loss'])\n",
        "plt.title('model loss')\n",
        "plt.ylabel('Loss')\n",
        "plt.xlabel('Epoch')\n",
        "plt.legend(['Train', 'Test'], loc='upper left')\n",
        "plt.show()"
      ],
      "execution_count": 0,
      "outputs": [
        {
          "output_type": "stream",
          "text": [
            "dict_keys(['val_loss', 'val_accuracy', 'loss', 'accuracy'])\n"
          ],
          "name": "stdout"
        },
        {
          "output_type": "display_data",
          "data": {
            "image/png": "[encoded data removed]",
            "text/plain": [
              "<Figure size 432x288 with 1 Axes>"
            ]
          },
          "metadata": {
            "tags": [],
            "needs_background": "light"
          }
        },
        {
          "output_type": "display_data",
          "data": {
            "image/png": "[encoded data removed]",
            "text/plain": [
              "<Figure size 432x288 with 1 Axes>"
            ]
          },
          "metadata": {
            "tags": [],
            "needs_background": "light"
          }
        }
      ]
    },
    {
      "cell_type": "markdown",
      "metadata": {
        "id": "6Cnr6jE7n0kW",
        "colab_type": "text"
      },
      "source": [
        "# **Multi-Channel CNN**"
      ]
    },
    {
      "cell_type": "code",
      "metadata": {
        "id": "4HVnxYRuVhKL",
        "colab_type": "code",
        "colab": {}
      },
      "source": [
        "def define_model(n, x_train, y_train, x_val, y_val, x_test, y_test):\n",
        "    sequence_input1 = Input(shape=(MAX_SEQUENCE_LENGTH,), dtype='int32')\n",
        "    embedded_sequences1 = embedding_layer(sequence_input1)\n",
        "    cov1= Conv1D(32, 5, activation='relu')(embedded_sequences1)\n",
        "    pool1 = MaxPooling1D(5)(cov1)\n",
        "    flat1 = Flatten()(pool1)\n",
        "\n",
        "    sequence_input2 = Input(shape=(MAX_SEQUENCE_LENGTH,), dtype='int32')\n",
        "    embedded_sequences2 = embedding_layer(sequence_input2)\n",
        "    cov2 = Conv1D(32, 5, activation='relu')(embedded_sequences2)\n",
        "    pool2 = MaxPooling1D(5)(cov2)\n",
        "    flat2 = Flatten()(pool2)\n",
        "\n",
        "    sequence_input3 = Input(shape=(MAX_SEQUENCE_LENGTH,), dtype='int32')\n",
        "    embedded_sequences3 = embedding_layer(sequence_input3)\n",
        "    cov3 = Conv1D(32, 5, activation='relu')(embedded_sequences3)\n",
        "    pool3 = MaxPooling1D(35)(cov3)\n",
        "    flat3 = Flatten()(pool3)\n",
        "\n",
        "    merge = concatenate([flat1, flat2, flat3])\n",
        "\n",
        "    # flat4 = Flatten()(merge)\n",
        "    dense = Dense(32, activation='relu')(merge)\n",
        "    preds = Dense(2, activation='softmax')(dense)\n",
        "\n",
        "    model = Model(inputs = [sequence_input1, sequence_input2, sequence_input3], outputs = preds)\n",
        "    model.compile(loss='categorical_crossentropy',optimizer='adadelta',metrics=['acc'])\n",
        "    print(\"Fitting the simple convolutional neural network model\")\n",
        "    model.summary()\n",
        "    # history = model.fit([x_train, x_train, x_train], y_train, epochs=2, batch_size=32)\n",
        "    history = model.fit([x_train, x_train, x_train], y_train,validation_data = ([x_val, x_val, x_val], y_val), epochs=12, batch_size=32)\n",
        "    print('\\nModel Training Completed !')\n",
        "\n",
        "    ### PREDICTION\n",
        "    y_pred = np.round(model.predict([x_test, x_test, x_test]))\n",
        "    cpred = float(sum(y_pred == y_test)[0])\n",
        "    cm = confusion_matrix(y_test.argmax(1), y_pred.argmax(1))\n",
        "    print(\"\\n-> Correct predictions:\", cpred)\n",
        "    print(\"\\n-> Total number of test examples:\", len(y_test))\n",
        "    print(\"\\n-> Accuracy of model: \", cpred/float(len(y_test)))\n",
        "    print(\"\\n-> Confusion for Dataset\",n,\": \", cm)\n",
        "\n",
        "    plt.matshow(cm, cmap=plt.cm.binary, interpolation='nearest')\n",
        "    plt.title('Confusion matrix - CNN Model 1')\n",
        "    plt.colorbar()\n",
        "    plt.ylabel('Expected label')\n",
        "    plt.xlabel('Predicted label')\n",
        "    plt.show()\n",
        "    \n",
        "    return history"
      ],
      "execution_count": 0,
      "outputs": []
    },
    {
      "cell_type": "code",
      "metadata": {
        "id": "w22qn8CFrRl1",
        "colab_type": "code",
        "outputId": "8135b38d-a8ab-462c-b0d5-cab46135970c",
        "colab": {
          "base_uri": "https://localhost:8080/",
          "height": 1000
        }
      },
      "source": [
        "history = define_model(1, x_train1, y_train1, x_val1, y_val1, x_test1, y_test1)"
      ],
      "execution_count": 0,
      "outputs": [
        {
          "output_type": "stream",
          "text": [
            "Fitting the simple convolutional neural network model\n",
            "Model: \"model_2\"\n",
            "__________________________________________________________________________________________________\n",
            "Layer (type)                    Output Shape         Param #     Connected to                     \n",
            "==================================================================================================\n",
            "input_4 (InputLayer)            (None, 1000)         0                                            \n",
            "__________________________________________________________________________________________________\n",
            "input_5 (InputLayer)            (None, 1000)         0                                            \n",
            "__________________________________________________________________________________________________\n",
            "input_6 (InputLayer)            (None, 1000)         0                                            \n",
            "__________________________________________________________________________________________________\n",
            "embedding_1 (Embedding)         (None, 1000, 100)    16926000    input_4[0][0]                    \n",
            "                                                                 input_5[0][0]                    \n",
            "                                                                 input_6[0][0]                    \n",
            "__________________________________________________________________________________________________\n",
            "conv1d_4 (Conv1D)               (None, 996, 32)      16032       embedding_1[3][0]                \n",
            "__________________________________________________________________________________________________\n",
            "conv1d_5 (Conv1D)               (None, 996, 32)      16032       embedding_1[4][0]                \n",
            "__________________________________________________________________________________________________\n",
            "conv1d_6 (Conv1D)               (None, 996, 32)      16032       embedding_1[5][0]                \n",
            "__________________________________________________________________________________________________\n",
            "max_pooling1d_4 (MaxPooling1D)  (None, 199, 32)      0           conv1d_4[0][0]                   \n",
            "__________________________________________________________________________________________________\n",
            "max_pooling1d_5 (MaxPooling1D)  (None, 199, 32)      0           conv1d_5[0][0]                   \n",
            "__________________________________________________________________________________________________\n",
            "max_pooling1d_6 (MaxPooling1D)  (None, 28, 32)       0           conv1d_6[0][0]                   \n",
            "__________________________________________________________________________________________________\n",
            "flatten_4 (Flatten)             (None, 6368)         0           max_pooling1d_4[0][0]            \n",
            "__________________________________________________________________________________________________\n",
            "flatten_5 (Flatten)             (None, 6368)         0           max_pooling1d_5[0][0]            \n",
            "__________________________________________________________________________________________________\n",
            "flatten_6 (Flatten)             (None, 896)          0           max_pooling1d_6[0][0]            \n",
            "__________________________________________________________________________________________________\n",
            "concatenate_2 (Concatenate)     (None, 13632)        0           flatten_4[0][0]                  \n",
            "                                                                 flatten_5[0][0]                  \n",
            "                                                                 flatten_6[0][0]                  \n",
            "__________________________________________________________________________________________________\n",
            "dense_3 (Dense)                 (None, 32)           436256      concatenate_2[0][0]              \n",
            "__________________________________________________________________________________________________\n",
            "dense_4 (Dense)                 (None, 2)            66          dense_3[0][0]                    \n",
            "==================================================================================================\n",
            "Total params: 17,410,418\n",
            "Trainable params: 17,410,418\n",
            "Non-trainable params: 0\n",
            "__________________________________________________________________________________________________\n"
          ],
          "name": "stdout"
        },
        {
          "output_type": "stream",
          "text": [
            "/usr/local/lib/python3.6/dist-packages/tensorflow/python/framework/indexed_slices.py:434: UserWarning: Converting sparse IndexedSlices to a dense Tensor of unknown shape. This may consume a large amount of memory.\n",
            "  \"Converting sparse IndexedSlices to a dense Tensor of unknown shape. \"\n"
          ],
          "name": "stderr"
        },
        {
          "output_type": "stream",
          "text": [
            "Train on 15570 samples, validate on 10381 samples\n",
            "Epoch 1/12\n",
            "15570/15570 [==============================] - 373s 24ms/step - loss: 0.3724 - acc: 0.8295 - val_loss: 0.1565 - val_acc: 0.9404\n",
            "Epoch 2/12\n",
            "15570/15570 [==============================] - 360s 23ms/step - loss: 0.1433 - acc: 0.9444 - val_loss: 0.1263 - val_acc: 0.9558\n",
            "Epoch 3/12\n",
            "15570/15570 [==============================] - 371s 24ms/step - loss: 0.0819 - acc: 0.9714 - val_loss: 0.0911 - val_acc: 0.9700\n",
            "Epoch 4/12\n",
            "15570/15570 [==============================] - 377s 24ms/step - loss: 0.0384 - acc: 0.9887 - val_loss: 0.0821 - val_acc: 0.9748\n",
            "Epoch 5/12\n",
            "15570/15570 [==============================] - 388s 25ms/step - loss: 0.0130 - acc: 0.9969 - val_loss: 0.0962 - val_acc: 0.9762\n",
            "Epoch 6/12\n",
            "15570/15570 [==============================] - 376s 24ms/step - loss: 0.0071 - acc: 0.9986 - val_loss: 0.1014 - val_acc: 0.9765\n",
            "Epoch 7/12\n",
            "15570/15570 [==============================] - 371s 24ms/step - loss: 0.0026 - acc: 0.9997 - val_loss: 0.1163 - val_acc: 0.9767\n",
            "Epoch 8/12\n",
            "15570/15570 [==============================] - 382s 25ms/step - loss: 0.0015 - acc: 0.9998 - val_loss: 0.1403 - val_acc: 0.9766\n",
            "Epoch 9/12\n",
            "15570/15570 [==============================] - 370s 24ms/step - loss: 8.9690e-04 - acc: 0.9999 - val_loss: 0.1439 - val_acc: 0.9776\n",
            "Epoch 10/12\n",
            "15570/15570 [==============================] - 379s 24ms/step - loss: 0.0014 - acc: 0.9997 - val_loss: 0.1501 - val_acc: 0.9752\n",
            "Epoch 11/12\n",
            "15570/15570 [==============================] - 385s 25ms/step - loss: 0.0013 - acc: 0.9997 - val_loss: 0.1464 - val_acc: 0.9770\n",
            "Epoch 12/12\n",
            "15570/15570 [==============================] - 380s 24ms/step - loss: 9.4751e-04 - acc: 0.9999 - val_loss: 0.1521 - val_acc: 0.9767\n",
            "\n",
            "Model Training Completed !\n",
            "\n",
            "-> Correct predictions: 10379.0\n",
            "\n",
            "-> Total number of test examples: 10380\n",
            "\n",
            "-> Accuracy of model:  0.9999036608863199\n",
            "\n",
            "-> Confusion for Dataset 1 :  [[5191    1]\n",
            " [   0 5188]]\n"
          ],
          "name": "stdout"
        }
      ]
    },
    {
      "cell_type": "code",
      "metadata": {
        "id": "5uo0sYo8uriC",
        "colab_type": "code",
        "outputId": "1388332a-f6b8-44af-ad51-d423d1732dfc",
        "colab": {
          "base_uri": "https://localhost:8080/",
          "height": 590
        }
      },
      "source": [
        "# list all data in history\n",
        "print(history.history.keys())\n",
        "\n",
        "# summarize history for accuracy\n",
        "plt.plot(history.history['acc'])\n",
        "plt.plot(history.history['val_acc'])\n",
        "plt.title('model accuracy')\n",
        "plt.ylabel('Accuracy')\n",
        "plt.xlabel('Epoch')\n",
        "plt.legend(['Train', 'Test'], loc='upper left')\n",
        "plt.show()\n",
        "\n",
        "# summarize history for loss\n",
        "plt.plot(history.history['loss'])\n",
        "plt.plot(history.history['val_loss'])\n",
        "plt.title('model loss')\n",
        "plt.ylabel('Loss')\n",
        "plt.xlabel('Epoch')\n",
        "plt.legend(['Train', 'Test'], loc='upper left')\n",
        "plt.show()"
      ],
      "execution_count": 0,
      "outputs": [
        {
          "output_type": "stream",
          "text": [
            "dict_keys(['val_loss', 'val_acc', 'loss', 'acc'])\n"
          ],
          "name": "stdout"
        },
        {
          "output_type": "display_data",
          "data": {
            "image/png": "[encoded data removed]",
            "text/plain": [
              "<Figure size 432x288 with 1 Axes>"
            ]
          },
          "metadata": {
            "tags": [],
            "needs_background": "light"
          }
        },
        {
          "output_type": "display_data",
          "data": {
            "image/png": "[encoded data removed]",
            "text/plain": [
              "<Figure size 432x288 with 1 Axes>"
            ]
          },
          "metadata": {
            "tags": [],
            "needs_background": "light"
          }
        }
      ]
    },
    {
      "cell_type": "code",
      "metadata": {
        "id": "dyCeholiDIVc",
        "colab_type": "code",
        "outputId": "12f56b94-a185-4d15-b680-5a34dd879751",
        "colab": {
          "base_uri": "https://localhost:8080/",
          "height": 1000
        }
      },
      "source": [
        " history = define_model(2, x_train2, y_train2, x_val2, y_val2, x_test2, y_test2)"
      ],
      "execution_count": 0,
      "outputs": [
        {
          "output_type": "stream",
          "text": [
            "Fitting the simple convolutional neural network model\n",
            "Model: \"model_3\"\n",
            "__________________________________________________________________________________________________\n",
            "Layer (type)                    Output Shape         Param #     Connected to                     \n",
            "==================================================================================================\n",
            "input_7 (InputLayer)            (None, 1000)         0                                            \n",
            "__________________________________________________________________________________________________\n",
            "input_8 (InputLayer)            (None, 1000)         0                                            \n",
            "__________________________________________________________________________________________________\n",
            "input_9 (InputLayer)            (None, 1000)         0                                            \n",
            "__________________________________________________________________________________________________\n",
            "embedding_1 (Embedding)         (None, 1000, 100)    16926000    input_7[0][0]                    \n",
            "                                                                 input_8[0][0]                    \n",
            "                                                                 input_9[0][0]                    \n",
            "__________________________________________________________________________________________________\n",
            "conv1d_7 (Conv1D)               (None, 996, 32)      16032       embedding_1[6][0]                \n",
            "__________________________________________________________________________________________________\n",
            "conv1d_8 (Conv1D)               (None, 996, 32)      16032       embedding_1[7][0]                \n",
            "__________________________________________________________________________________________________\n",
            "conv1d_9 (Conv1D)               (None, 996, 32)      16032       embedding_1[8][0]                \n",
            "__________________________________________________________________________________________________\n",
            "max_pooling1d_7 (MaxPooling1D)  (None, 199, 32)      0           conv1d_7[0][0]                   \n",
            "__________________________________________________________________________________________________\n",
            "max_pooling1d_8 (MaxPooling1D)  (None, 199, 32)      0           conv1d_8[0][0]                   \n",
            "__________________________________________________________________________________________________\n",
            "max_pooling1d_9 (MaxPooling1D)  (None, 28, 32)       0           conv1d_9[0][0]                   \n",
            "__________________________________________________________________________________________________\n",
            "flatten_7 (Flatten)             (None, 6368)         0           max_pooling1d_7[0][0]            \n",
            "__________________________________________________________________________________________________\n",
            "flatten_8 (Flatten)             (None, 6368)         0           max_pooling1d_8[0][0]            \n",
            "__________________________________________________________________________________________________\n",
            "flatten_9 (Flatten)             (None, 896)          0           max_pooling1d_9[0][0]            \n",
            "__________________________________________________________________________________________________\n",
            "concatenate_3 (Concatenate)     (None, 13632)        0           flatten_7[0][0]                  \n",
            "                                                                 flatten_8[0][0]                  \n",
            "                                                                 flatten_9[0][0]                  \n",
            "__________________________________________________________________________________________________\n",
            "dense_5 (Dense)                 (None, 32)           436256      concatenate_3[0][0]              \n",
            "__________________________________________________________________________________________________\n",
            "dense_6 (Dense)                 (None, 2)            66          dense_5[0][0]                    \n",
            "==================================================================================================\n",
            "Total params: 17,410,418\n",
            "Trainable params: 17,410,418\n",
            "Non-trainable params: 0\n",
            "__________________________________________________________________________________________________\n"
          ],
          "name": "stdout"
        },
        {
          "output_type": "stream",
          "text": [
            "/usr/local/lib/python3.6/dist-packages/tensorflow/python/framework/indexed_slices.py:434: UserWarning: Converting sparse IndexedSlices to a dense Tensor of unknown shape. This may consume a large amount of memory.\n",
            "  \"Converting sparse IndexedSlices to a dense Tensor of unknown shape. \"\n"
          ],
          "name": "stderr"
        },
        {
          "output_type": "stream",
          "text": [
            "Train on 2991 samples, validate on 1994 samples\n",
            "Epoch 1/12\n",
            "2991/2991 [==============================] - 78s 26ms/step - loss: 0.7827 - acc: 0.5811 - val_loss: 0.6619 - val_acc: 0.6515\n",
            "Epoch 2/12\n",
            "2991/2991 [==============================] - 76s 25ms/step - loss: 0.6201 - acc: 0.7108 - val_loss: 0.4978 - val_acc: 0.8039\n",
            "Epoch 3/12\n",
            "2991/2991 [==============================] - 76s 25ms/step - loss: 0.4319 - acc: 0.8094 - val_loss: 0.2878 - val_acc: 0.8862\n",
            "Epoch 4/12\n",
            "2991/2991 [==============================] - 77s 26ms/step - loss: 0.2300 - acc: 0.9034 - val_loss: 0.2808 - val_acc: 0.8711\n",
            "Epoch 5/12\n",
            "2991/2991 [==============================] - 75s 25ms/step - loss: 0.1046 - acc: 0.9676 - val_loss: 0.0809 - val_acc: 0.9724\n",
            "Epoch 6/12\n",
            "2991/2991 [==============================] - 74s 25ms/step - loss: 0.0401 - acc: 0.9910 - val_loss: 0.0736 - val_acc: 0.9734\n",
            "Epoch 7/12\n",
            "2991/2991 [==============================] - 73s 25ms/step - loss: 0.0158 - acc: 0.9977 - val_loss: 0.0603 - val_acc: 0.9784\n",
            "Epoch 8/12\n",
            "2991/2991 [==============================] - 78s 26ms/step - loss: 0.0056 - acc: 0.9990 - val_loss: 0.0623 - val_acc: 0.9794\n",
            "Epoch 9/12\n",
            "2991/2991 [==============================] - 77s 26ms/step - loss: 0.0019 - acc: 1.0000 - val_loss: 0.0755 - val_acc: 0.9809\n",
            "Epoch 10/12\n",
            "2991/2991 [==============================] - 74s 25ms/step - loss: 7.4465e-04 - acc: 1.0000 - val_loss: 0.0813 - val_acc: 0.9814\n",
            "Epoch 11/12\n",
            "2991/2991 [==============================] - 74s 25ms/step - loss: 3.1075e-04 - acc: 1.0000 - val_loss: 0.0772 - val_acc: 0.9809\n",
            "Epoch 12/12\n",
            "2991/2991 [==============================] - 76s 25ms/step - loss: 1.5406e-04 - acc: 1.0000 - val_loss: 0.0849 - val_acc: 0.9804\n",
            "\n",
            "Model Training Completed !\n",
            "\n",
            "-> Correct predictions: 1994.0\n",
            "\n",
            "-> Total number of test examples: 1994\n",
            "\n",
            "-> Accuracy of model:  1.0\n",
            "\n",
            "-> Confusion for Dataset 2 :  [[1050    0]\n",
            " [   0  944]]\n"
          ],
          "name": "stdout"
        }
      ]
    },
    {
      "cell_type": "code",
      "metadata": {
        "id": "1vPLVfs9rD6r",
        "colab_type": "code",
        "outputId": "33ced7b1-ccf6-44dd-8ef0-b90315428ed7",
        "colab": {
          "base_uri": "https://localhost:8080/",
          "height": 590
        }
      },
      "source": [
        "# list all data in history\n",
        "print(history.history.keys())\n",
        "\n",
        "# summarize history for accuracy\n",
        "plt.plot(history.history['acc'])\n",
        "plt.plot(history.history['val_acc'])\n",
        "plt.title('model accuracy')\n",
        "plt.ylabel('Accuracy')\n",
        "plt.xlabel('Epoch')\n",
        "plt.legend(['Train', 'Test'], loc='upper left')\n",
        "plt.show()\n",
        "\n",
        "# summarize history for loss\n",
        "plt.plot(history.history['loss'])\n",
        "plt.plot(history.history['val_loss'])\n",
        "plt.title('model loss')\n",
        "plt.ylabel('Loss')\n",
        "plt.xlabel('Epoch')\n",
        "plt.legend(['Train', 'Test'], loc='upper left')\n",
        "plt.show()"
      ],
      "execution_count": 0,
      "outputs": [
        {
          "output_type": "stream",
          "text": [
            "dict_keys(['val_loss', 'val_acc', 'loss', 'acc'])\n"
          ],
          "name": "stdout"
        },
        {
          "output_type": "display_data",
          "data": {
            "image/png": "[encoded data removed]",
            "text/plain": [
              "<Figure size 432x288 with 1 Axes>"
            ]
          },
          "metadata": {
            "tags": [],
            "needs_background": "light"
          }
        },
        {
          "output_type": "display_data",
          "data": {
            "image/png": "[encoded data removed]",
            "text/plain": [
              "<Figure size 432x288 with 1 Axes>"
            ]
          },
          "metadata": {
            "tags": [],
            "needs_background": "light"
          }
        }
      ]
    },
    {
      "cell_type": "code",
      "metadata": {
        "id": "KfI9wM3pqunj",
        "colab_type": "code",
        "outputId": "71fcfd8c-0210-43c0-d557-b882bf913be0",
        "colab": {
          "base_uri": "https://localhost:8080/",
          "height": 1000
        }
      },
      "source": [
        " history = define_model(3, x_train3, y_train3, x_val3, y_val3, x_test3, y_test3)"
      ],
      "execution_count": 55,
      "outputs": [
        {
          "output_type": "stream",
          "text": [
            "Fitting the simple convolutional neural network model\n",
            "Model: \"model_1\"\n",
            "__________________________________________________________________________________________________\n",
            "Layer (type)                    Output Shape         Param #     Connected to                     \n",
            "==================================================================================================\n",
            "input_1 (InputLayer)            (None, 1000)         0                                            \n",
            "__________________________________________________________________________________________________\n",
            "input_2 (InputLayer)            (None, 1000)         0                                            \n",
            "__________________________________________________________________________________________________\n",
            "input_3 (InputLayer)            (None, 1000)         0                                            \n",
            "__________________________________________________________________________________________________\n",
            "embedding_1 (Embedding)         (None, 1000, 100)    16926000    input_1[0][0]                    \n",
            "                                                                 input_2[0][0]                    \n",
            "                                                                 input_3[0][0]                    \n",
            "__________________________________________________________________________________________________\n",
            "conv1d_1 (Conv1D)               (None, 996, 32)      16032       embedding_1[0][0]                \n",
            "__________________________________________________________________________________________________\n",
            "conv1d_2 (Conv1D)               (None, 996, 32)      16032       embedding_1[1][0]                \n",
            "__________________________________________________________________________________________________\n",
            "conv1d_3 (Conv1D)               (None, 996, 32)      16032       embedding_1[2][0]                \n",
            "__________________________________________________________________________________________________\n",
            "max_pooling1d_1 (MaxPooling1D)  (None, 199, 32)      0           conv1d_1[0][0]                   \n",
            "__________________________________________________________________________________________________\n",
            "max_pooling1d_2 (MaxPooling1D)  (None, 199, 32)      0           conv1d_2[0][0]                   \n",
            "__________________________________________________________________________________________________\n",
            "max_pooling1d_3 (MaxPooling1D)  (None, 28, 32)       0           conv1d_3[0][0]                   \n",
            "__________________________________________________________________________________________________\n",
            "flatten_1 (Flatten)             (None, 6368)         0           max_pooling1d_1[0][0]            \n",
            "__________________________________________________________________________________________________\n",
            "flatten_2 (Flatten)             (None, 6368)         0           max_pooling1d_2[0][0]            \n",
            "__________________________________________________________________________________________________\n",
            "flatten_3 (Flatten)             (None, 896)          0           max_pooling1d_3[0][0]            \n",
            "__________________________________________________________________________________________________\n",
            "concatenate_1 (Concatenate)     (None, 13632)        0           flatten_1[0][0]                  \n",
            "                                                                 flatten_2[0][0]                  \n",
            "                                                                 flatten_3[0][0]                  \n",
            "__________________________________________________________________________________________________\n",
            "dense_1 (Dense)                 (None, 32)           436256      concatenate_1[0][0]              \n",
            "__________________________________________________________________________________________________\n",
            "dense_2 (Dense)                 (None, 2)            66          dense_1[0][0]                    \n",
            "==================================================================================================\n",
            "Total params: 17,410,418\n",
            "Trainable params: 17,410,418\n",
            "Non-trainable params: 0\n",
            "__________________________________________________________________________________________________\n"
          ],
          "name": "stdout"
        },
        {
          "output_type": "stream",
          "text": [
            "/usr/local/lib/python3.6/dist-packages/tensorflow/python/framework/indexed_slices.py:434: UserWarning: Converting sparse IndexedSlices to a dense Tensor of unknown shape. This may consume a large amount of memory.\n",
            "  \"Converting sparse IndexedSlices to a dense Tensor of unknown shape. \"\n"
          ],
          "name": "stderr"
        },
        {
          "output_type": "stream",
          "text": [
            "Train on 37476 samples, validate on 24985 samples\n",
            "Epoch 1/12\n",
            "37476/37476 [==============================] - 796s 21ms/step - loss: 0.3074 - acc: 0.8697 - val_loss: 0.2055 - val_acc: 0.9264\n",
            "Epoch 2/12\n",
            "37476/37476 [==============================] - 796s 21ms/step - loss: 0.1636 - acc: 0.9446 - val_loss: 0.2795 - val_acc: 0.9084\n",
            "Epoch 3/12\n",
            "37476/37476 [==============================] - 789s 21ms/step - loss: 0.1066 - acc: 0.9658 - val_loss: 0.3485 - val_acc: 0.8487\n",
            "Epoch 4/12\n",
            "37476/37476 [==============================] - 804s 21ms/step - loss: 0.0631 - acc: 0.9802 - val_loss: 0.2835 - val_acc: 0.8922\n",
            "Epoch 5/12\n",
            "37476/37476 [==============================] - 780s 21ms/step - loss: 0.0374 - acc: 0.9887 - val_loss: 0.1437 - val_acc: 0.9684\n",
            "Epoch 6/12\n",
            "37476/37476 [==============================] - 785s 21ms/step - loss: 0.0258 - acc: 0.9924 - val_loss: 0.1947 - val_acc: 0.9697\n",
            "Epoch 7/12\n",
            "37476/37476 [==============================] - 790s 21ms/step - loss: 0.0206 - acc: 0.9938 - val_loss: 0.1968 - val_acc: 0.9697\n",
            "Epoch 8/12\n",
            "37476/37476 [==============================] - 776s 21ms/step - loss: 0.0163 - acc: 0.9951 - val_loss: 0.2223 - val_acc: 0.9704\n",
            "Epoch 9/12\n",
            "37476/37476 [==============================] - 775s 21ms/step - loss: 0.0149 - acc: 0.9958 - val_loss: 0.2296 - val_acc: 0.9688\n",
            "Epoch 10/12\n",
            "37476/37476 [==============================] - 776s 21ms/step - loss: 0.0138 - acc: 0.9961 - val_loss: 0.3164 - val_acc: 0.9702\n",
            "Epoch 11/12\n",
            "37476/37476 [==============================] - 781s 21ms/step - loss: 0.0126 - acc: 0.9966 - val_loss: 0.2684 - val_acc: 0.9691\n",
            "Epoch 12/12\n",
            "37476/37476 [==============================] - 783s 21ms/step - loss: 0.0118 - acc: 0.9965 - val_loss: 0.2859 - val_acc: 0.9686\n",
            "\n",
            "Model Training Completed !\n",
            "\n",
            "-> Correct predictions: 24915.0\n",
            "\n",
            "-> Total number of test examples: 24984\n",
            "\n",
            "-> Accuracy of model:  0.9972382324687801\n",
            "\n",
            "-> Confusion for Dataset 3 :  [[15044    63]\n",
            " [    6  9871]]\n"
          ],
          "name": "stdout"
        },
        {
          "output_type": "display_data",
          "data": {
            "image/png": "[encoded data removed]",
            "text/plain": [
              "<Figure size 288x288 with 2 Axes>"
            ]
          },
          "metadata": {
            "tags": [],
            "needs_background": "light"
          }
        }
      ]
    },
    {
      "cell_type": "code",
      "metadata": {
        "id": "TbCFTxbrqzmx",
        "colab_type": "code",
        "colab": {
          "base_uri": "https://localhost:8080/",
          "height": 590
        },
        "outputId": "3261ebcd-5154-4330-9af2-d2ff13e2d9af"
      },
      "source": [
        "\n",
        "# list all data in history\n",
        "print(history.history.keys())\n",
        "\n",
        "# summarize history for accuracy\n",
        "plt.plot(history.history['acc'])\n",
        "plt.plot(history.history['val_acc'])\n",
        "plt.title('model accuracy')\n",
        "plt.ylabel('Accuracy')\n",
        "plt.xlabel('Epoch')\n",
        "plt.legend(['Train', 'Test'], loc='upper left')\n",
        "plt.show()\n",
        "\n",
        "# summarize history for loss\n",
        "plt.plot(history.history['loss'])\n",
        "plt.plot(history.history['val_loss'])\n",
        "plt.title('model loss')\n",
        "plt.ylabel('Loss')\n",
        "plt.xlabel('Epoch')\n",
        "plt.legend(['Train', 'Test'], loc='upper left')\n",
        "plt.show()"
      ],
      "execution_count": 56,
      "outputs": [
        {
          "output_type": "stream",
          "text": [
            "dict_keys(['val_loss', 'val_acc', 'loss', 'acc'])\n"
          ],
          "name": "stdout"
        },
        {
          "output_type": "display_data",
          "data": {
            "image/png": "[encoded data removed]",
            "text/plain": [
              "<Figure size 432x288 with 1 Axes>"
            ]
          },
          "metadata": {
            "tags": [],
            "needs_background": "light"
          }
        },
        {
          "output_type": "display_data",
          "data": {
            "image/png": "[encoded data removed]",
            "text/plain": [
              "<Figure size 432x288 with 1 Axes>"
            ]
          },
          "metadata": {
            "tags": [],
            "needs_background": "light"
          }
        }
      ]
    },
    {
      "cell_type": "code",
      "metadata": {
        "id": "S283zDDvq2vY",
        "colab_type": "code",
        "colab": {}
      },
      "source": [
        ""
      ],
      "execution_count": 0,
      "outputs": []
    }
  ]
}